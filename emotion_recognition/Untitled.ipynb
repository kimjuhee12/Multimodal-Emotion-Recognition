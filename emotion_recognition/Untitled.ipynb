{
 "cells": [
  {
   "cell_type": "code",
   "execution_count": 2,
   "metadata": {},
   "outputs": [
    {
     "ename": "ModuleNotFoundError",
     "evalue": "No module named 'sidekit'",
     "output_type": "error",
     "traceback": [
      "\u001b[0;31m---------------------------------------------------------------------------\u001b[0m",
      "\u001b[0;31mModuleNotFoundError\u001b[0m                       Traceback (most recent call last)",
      "\u001b[0;32m<ipython-input-2-e37836c68084>\u001b[0m in \u001b[0;36m<module>\u001b[0;34m\u001b[0m\n\u001b[1;32m      3\u001b[0m \u001b[0;32mimport\u001b[0m \u001b[0mscipy\u001b[0m\u001b[0;34m\u001b[0m\u001b[0;34m\u001b[0m\u001b[0m\n\u001b[1;32m      4\u001b[0m \u001b[0;32mfrom\u001b[0m \u001b[0mscipy\u001b[0m\u001b[0;34m.\u001b[0m\u001b[0mfftpack\u001b[0m\u001b[0;34m.\u001b[0m\u001b[0mrealtransforms\u001b[0m \u001b[0;32mimport\u001b[0m \u001b[0mdct\u001b[0m\u001b[0;34m\u001b[0m\u001b[0;34m\u001b[0m\u001b[0m\n\u001b[0;32m----> 5\u001b[0;31m \u001b[0;32mfrom\u001b[0m \u001b[0msidekit\u001b[0m\u001b[0;34m.\u001b[0m\u001b[0mfrontend\u001b[0m\u001b[0;34m.\u001b[0m\u001b[0mvad\u001b[0m \u001b[0;32mimport\u001b[0m \u001b[0mpre_emphasis\u001b[0m\u001b[0;34m\u001b[0m\u001b[0;34m\u001b[0m\u001b[0m\n\u001b[0m\u001b[1;32m      6\u001b[0m \u001b[0;32mfrom\u001b[0m \u001b[0msidekit\u001b[0m\u001b[0;34m.\u001b[0m\u001b[0mfrontend\u001b[0m\u001b[0;34m.\u001b[0m\u001b[0mio\u001b[0m \u001b[0;32mimport\u001b[0m \u001b[0;34m*\u001b[0m\u001b[0;34m\u001b[0m\u001b[0;34m\u001b[0m\u001b[0m\n\u001b[1;32m      7\u001b[0m \u001b[0;32mfrom\u001b[0m \u001b[0msidekit\u001b[0m\u001b[0;34m.\u001b[0m\u001b[0mfrontend\u001b[0m\u001b[0;34m.\u001b[0m\u001b[0mnormfeat\u001b[0m \u001b[0;32mimport\u001b[0m \u001b[0;34m*\u001b[0m\u001b[0;34m\u001b[0m\u001b[0;34m\u001b[0m\u001b[0m\n",
      "\u001b[0;31mModuleNotFoundError\u001b[0m: No module named 'sidekit'"
     ]
    }
   ],
   "source": [
    "import numpy\n",
    "import numpy.matlib\n",
    "import scipy\n",
    "from scipy.fftpack.realtransforms import dct\n",
    "from sidekit.frontend.vad import pre_emphasis\n",
    "from sidekit.frontend.io import *\n",
    "from sidekit.frontend.normfeat import *\n",
    "from sidekit.frontend.features import *\n",
    "import scipy.io.wavfile as wav\n",
    "import numpy as np\n",
    "\n",
    "\n",
    "def readWavFile(wav):\n",
    "    #given a path from the keyboard to read a .wav file\n",
    "    #wav = raw_input('Give me the path of the .wav file you want to read: ')\n",
    "    inputWav = '/home/gionanide/Theses_2017-2018_2519/MEEI-RainBow'+wav\n",
    "    return inputWav\n",
    "\n",
    "#reading the .wav file (signal file) and extract the information we need \n",
    "def initialize(inputWav):\n",
    "    rate , signal  = wav.read(readWavFile(inputWav)) # returns a wave_read object , rate: sampling frequency \n",
    "    sig = wave.open(readWavFile(inputWav))\n",
    "    # signal is the numpy 2D array with the date of the .wav file\n",
    "    # len(signal) number of samples\n",
    "    sampwidth = sig.getsampwidth()\n",
    "    print ('The sample rate of the audio is: ',rate)\n",
    "    print ('Sampwidth: ',sampwidth\t)\n",
    "    return signal ,  rate \n",
    "\n",
    "def PLP():\n",
    "    folder = raw_input('Give the name of the folder that you want to read data: ')\n",
    "    amount = raw_input('Give the number of samples in the specific folder: ')\n",
    "    for x in range(1,int(amount)+1):\n",
    "        wav = '/'+folder+'/'+str(x)+'.wav'\n",
    "        print (wav)\n",
    "        #inputWav = readWavFile(wav)\n",
    "        signal,rate = initialize(wav)\n",
    "        #returns PLP coefficients for every frame \n",
    "        plp_features = plp(signal,rasta=True)\n",
    "        meanFeatures(plp_features[0])\t\n",
    "\n",
    "\n",
    "#compute the mean features for one .wav file (take the features for every frame and make a mean for the sample)\n",
    "def meanFeatures(plp_features):\n",
    "    #make a numpy array with length the number of plp features\n",
    "    mean_features=np.zeros(len(plp_features[0]))\n",
    "    #for one input take the sum of all frames in a specific feature and divide them with the number of frames\n",
    "    for x in range(len(plp_features)):\n",
    "        for y in range(len(plp_features[x])):\n",
    "            mean_features[y]+=plp_features[x][y]\n",
    "    mean_features = (mean_features / len(plp_features)) \n",
    "    print (mean_features)\n",
    "\n",
    "\n",
    "\n",
    "def main():\n",
    "    PLP()\n",
    "\n",
    "main()\n"
   ]
  },
  {
   "cell_type": "code",
   "execution_count": 1,
   "metadata": {},
   "outputs": [
    {
     "name": "stderr",
     "output_type": "stream",
     "text": [
      "WARNING:root:WARNNG: libsvm is not installed, please refer to the documentation if you intend to use SVM classifiers\n"
     ]
    }
   ],
   "source": [
    "import numpy\n",
    "import numpy.matlib\n",
    "import scipy\n",
    "from scipy.fftpack.realtransforms import dct\n",
    "from sidekit.frontend.vad import pre_emphasis\n",
    "from sidekit.frontend.io import *\n",
    "from sidekit.frontend.normfeat import *\n",
    "from sidekit.frontend.features import *\n",
    "import scipy.io.wavfile as wav\n",
    "import numpy as np"
   ]
  },
  {
   "cell_type": "code",
   "execution_count": 4,
   "metadata": {},
   "outputs": [],
   "source": [
    "import sys\n",
    "sys.path.append('../')\n",
    "from emotion_recognition import utils"
   ]
  },
  {
   "cell_type": "code",
   "execution_count": 28,
   "metadata": {},
   "outputs": [],
   "source": [
    "path = \"../../data/\"\n",
    "\n",
    "filename = path +'wav/'+ \"s10_anger_M_a17.wav\"\n",
    "\n",
    "y,sr = utils.loadwav(filename)"
   ]
  },
  {
   "cell_type": "code",
   "execution_count": 66,
   "metadata": {},
   "outputs": [],
   "source": [
    "signal = y[:500]"
   ]
  },
  {
   "cell_type": "code",
   "execution_count": 67,
   "metadata": {},
   "outputs": [
    {
     "name": "stdout",
     "output_type": "stream",
     "text": [
      "(57479,)\n"
     ]
    }
   ],
   "source": [
    "print (np.shape(y))"
   ]
  },
  {
   "cell_type": "code",
   "execution_count": 58,
   "metadata": {},
   "outputs": [],
   "source": [
    "plp_features = plp(signal,fs=sr,nwin=1,shift=1,prefac=1,rasta=True)"
   ]
  },
  {
   "cell_type": "code",
   "execution_count": 68,
   "metadata": {},
   "outputs": [
    {
     "ename": "AxisError",
     "evalue": "axis 1 is out of bounds for array of dimension 1",
     "output_type": "error",
     "traceback": [
      "\u001b[0;31m---------------------------------------------------------------------------\u001b[0m",
      "\u001b[0;31mAxisError\u001b[0m                                 Traceback (most recent call last)",
      "\u001b[0;32m<ipython-input-68-f51d45beacb8>\u001b[0m in \u001b[0;36m<module>\u001b[0;34m\u001b[0m\n\u001b[0;32m----> 1\u001b[0;31m \u001b[0mplp_features\u001b[0m \u001b[0;34m=\u001b[0m \u001b[0mplp\u001b[0m\u001b[0;34m(\u001b[0m\u001b[0msignal\u001b[0m\u001b[0;34m)\u001b[0m\u001b[0;34m\u001b[0m\u001b[0;34m\u001b[0m\u001b[0m\n\u001b[0m",
      "\u001b[0;32m~/anaconda3/envs/tensorflow/lib/python3.6/site-packages/sidekit/frontend/features.py\u001b[0m in \u001b[0;36mplp\u001b[0;34m(input_sig, nwin, fs, plp_order, shift, get_spec, get_mspec, prefac, rasta)\u001b[0m\n\u001b[1;32m    919\u001b[0m \u001b[0;34m\u001b[0m\u001b[0m\n\u001b[1;32m    920\u001b[0m     \u001b[0;31m# first compute power spectrum\u001b[0m\u001b[0;34m\u001b[0m\u001b[0;34m\u001b[0m\u001b[0;34m\u001b[0m\u001b[0m\n\u001b[0;32m--> 921\u001b[0;31m     \u001b[0mpowspec\u001b[0m\u001b[0;34m,\u001b[0m \u001b[0mlog_energy\u001b[0m \u001b[0;34m=\u001b[0m \u001b[0mpower_spectrum\u001b[0m\u001b[0;34m(\u001b[0m\u001b[0minput_sig\u001b[0m\u001b[0;34m,\u001b[0m \u001b[0mfs\u001b[0m\u001b[0;34m,\u001b[0m \u001b[0mnwin\u001b[0m\u001b[0;34m,\u001b[0m \u001b[0mshift\u001b[0m\u001b[0;34m,\u001b[0m \u001b[0mprefac\u001b[0m\u001b[0;34m)\u001b[0m\u001b[0;34m\u001b[0m\u001b[0;34m\u001b[0m\u001b[0m\n\u001b[0m\u001b[1;32m    922\u001b[0m \u001b[0;34m\u001b[0m\u001b[0m\n\u001b[1;32m    923\u001b[0m     \u001b[0;31m# next group to critical bands\u001b[0m\u001b[0;34m\u001b[0m\u001b[0;34m\u001b[0m\u001b[0;34m\u001b[0m\u001b[0m\n",
      "\u001b[0;32m~/anaconda3/envs/tensorflow/lib/python3.6/site-packages/sidekit/frontend/features.py\u001b[0m in \u001b[0;36mpower_spectrum\u001b[0;34m(input_sig, fs, win_time, shift, prefac)\u001b[0m\n\u001b[1;32m    392\u001b[0m \u001b[0;34m\u001b[0m\u001b[0m\n\u001b[1;32m    393\u001b[0m     \u001b[0mspec\u001b[0m \u001b[0;34m=\u001b[0m \u001b[0mnumpy\u001b[0m\u001b[0;34m.\u001b[0m\u001b[0mones\u001b[0m\u001b[0;34m(\u001b[0m\u001b[0;34m(\u001b[0m\u001b[0ml\u001b[0m\u001b[0;34m,\u001b[0m \u001b[0mint\u001b[0m\u001b[0;34m(\u001b[0m\u001b[0mn_fft\u001b[0m \u001b[0;34m/\u001b[0m \u001b[0;36m2\u001b[0m\u001b[0;34m)\u001b[0m \u001b[0;34m+\u001b[0m \u001b[0;36m1\u001b[0m\u001b[0;34m)\u001b[0m\u001b[0;34m,\u001b[0m \u001b[0mdtype\u001b[0m\u001b[0;34m=\u001b[0m\u001b[0mPARAM_TYPE\u001b[0m\u001b[0;34m)\u001b[0m\u001b[0;34m\u001b[0m\u001b[0;34m\u001b[0m\u001b[0m\n\u001b[0;32m--> 394\u001b[0;31m     \u001b[0mlog_energy\u001b[0m \u001b[0;34m=\u001b[0m \u001b[0mnumpy\u001b[0m\u001b[0;34m.\u001b[0m\u001b[0mlog\u001b[0m\u001b[0;34m(\u001b[0m\u001b[0;34m(\u001b[0m\u001b[0mframed\u001b[0m\u001b[0;34m**\u001b[0m\u001b[0;36m2\u001b[0m\u001b[0;34m)\u001b[0m\u001b[0;34m.\u001b[0m\u001b[0msum\u001b[0m\u001b[0;34m(\u001b[0m\u001b[0maxis\u001b[0m\u001b[0;34m=\u001b[0m\u001b[0;36m1\u001b[0m\u001b[0;34m)\u001b[0m\u001b[0;34m)\u001b[0m\u001b[0;34m\u001b[0m\u001b[0;34m\u001b[0m\u001b[0m\n\u001b[0m\u001b[1;32m    395\u001b[0m     \u001b[0mdec\u001b[0m \u001b[0;34m=\u001b[0m \u001b[0;36m500000\u001b[0m\u001b[0;34m\u001b[0m\u001b[0;34m\u001b[0m\u001b[0m\n\u001b[1;32m    396\u001b[0m     \u001b[0mstart\u001b[0m \u001b[0;34m=\u001b[0m \u001b[0;36m0\u001b[0m\u001b[0;34m\u001b[0m\u001b[0;34m\u001b[0m\u001b[0m\n",
      "\u001b[0;32m~/anaconda3/envs/tensorflow/lib/python3.6/site-packages/numpy/core/_methods.py\u001b[0m in \u001b[0;36m_sum\u001b[0;34m(a, axis, dtype, out, keepdims, initial)\u001b[0m\n\u001b[1;32m     34\u001b[0m def _sum(a, axis=None, dtype=None, out=None, keepdims=False,\n\u001b[1;32m     35\u001b[0m          initial=_NoValue):\n\u001b[0;32m---> 36\u001b[0;31m     \u001b[0;32mreturn\u001b[0m \u001b[0mumr_sum\u001b[0m\u001b[0;34m(\u001b[0m\u001b[0ma\u001b[0m\u001b[0;34m,\u001b[0m \u001b[0maxis\u001b[0m\u001b[0;34m,\u001b[0m \u001b[0mdtype\u001b[0m\u001b[0;34m,\u001b[0m \u001b[0mout\u001b[0m\u001b[0;34m,\u001b[0m \u001b[0mkeepdims\u001b[0m\u001b[0;34m,\u001b[0m \u001b[0minitial\u001b[0m\u001b[0;34m)\u001b[0m\u001b[0;34m\u001b[0m\u001b[0;34m\u001b[0m\u001b[0m\n\u001b[0m\u001b[1;32m     37\u001b[0m \u001b[0;34m\u001b[0m\u001b[0m\n\u001b[1;32m     38\u001b[0m def _prod(a, axis=None, dtype=None, out=None, keepdims=False,\n",
      "\u001b[0;31mAxisError\u001b[0m: axis 1 is out of bounds for array of dimension 1"
     ]
    }
   ],
   "source": [
    "plp_features = plp(signal)"
   ]
  },
  {
   "cell_type": "code",
   "execution_count": 65,
   "metadata": {},
   "outputs": [
    {
     "data": {
      "text/plain": [
       "[array([[-0.65587034, -0.39933653, -0.26280395, ..., -0.02942454,\n",
       "         -0.00800357,  0.01537013],\n",
       "        [-0.65587034, -0.39933653, -0.26280395, ..., -0.02942454,\n",
       "         -0.00800357,  0.01537013],\n",
       "        [-0.65587034, -0.39933653, -0.26280395, ..., -0.02942454,\n",
       "         -0.00800357,  0.01537013],\n",
       "        ...,\n",
       "        [-1.49315059, -0.50304489, -0.14955809, ...,  0.04971865,\n",
       "         -0.08096439, -0.02109931],\n",
       "        [-1.47582073, -0.50739581, -0.17357663, ...,  0.04978796,\n",
       "         -0.13954619, -0.04563014],\n",
       "        [-1.45563165, -0.52336455, -0.1894683 , ...,  0.05561939,\n",
       "         -0.12489633, -0.04328465]]),\n",
       " array([ 6.385109 ,  6.427236 ,  6.2251606,  5.9175344,  5.8153615,\n",
       "         5.7194905,  5.7428536,  5.869197 ,  5.9652214,  5.9177046,\n",
       "         5.9146028,  5.821481 ,  5.921042 ,  5.9614854,  5.8083415,\n",
       "         5.836944 ,  5.7924423,  5.7698245,  5.699187 ,  5.576072 ,\n",
       "         5.643967 ,  5.670749 ,  5.7422833,  5.7340183,  5.812664 ,\n",
       "         5.753416 ,  5.812082 ,  5.96999  ,  5.978491 ,  6.028643 ,\n",
       "         5.9487057,  6.9787736,  8.054596 ,  8.883801 , 15.063672 ,\n",
       "        17.097626 , 18.269356 , 19.075788 , 19.690825 , 20.119751 ,\n",
       "        20.33155  , 20.409554 , 20.475758 , 20.41309  , 19.885542 ,\n",
       "        18.763664 , 17.27066  , 17.05745  , 17.007849 , 17.368902 ,\n",
       "        17.865074 , 18.858751 , 19.765978 , 19.983187 , 19.820734 ,\n",
       "        19.61352  , 19.503029 , 19.166473 , 18.224674 , 16.42903  ,\n",
       "        15.108811 , 14.217932 , 13.192097 , 12.486513 , 16.438406 ,\n",
       "        19.33753  , 19.806269 , 19.88858  , 20.282385 , 20.882004 ,\n",
       "        20.950752 , 20.783699 , 20.682583 , 20.661673 , 20.66303  ,\n",
       "        20.733465 , 20.693623 , 20.568285 , 20.696678 , 20.766716 ,\n",
       "        20.91572  , 20.982718 , 21.066671 , 21.149315 , 21.13848  ,\n",
       "        20.926075 , 20.28962  , 19.230337 , 17.867895 , 15.67612  ,\n",
       "        14.736166 , 14.007692 , 13.45628  , 12.771623 , 12.006334 ,\n",
       "        14.363115 , 15.777747 , 16.246593 , 17.027655 , 17.630665 ,\n",
       "        18.036295 , 18.545958 , 18.801403 , 18.54107  , 18.335873 ,\n",
       "        18.351847 , 18.568342 , 18.680395 , 18.674986 , 18.54517  ,\n",
       "        19.142935 , 20.098612 , 20.55569  , 20.56668  , 20.011753 ,\n",
       "        18.960644 , 18.651833 , 19.094868 , 19.35641  , 19.103498 ,\n",
       "        18.772959 , 18.365583 , 18.334625 , 18.089794 , 17.30748  ,\n",
       "        16.344866 , 15.58185  , 15.24937  , 15.181129 , 16.97728  ,\n",
       "        17.764708 , 17.960825 , 18.430021 , 19.206709 , 19.526941 ,\n",
       "        19.487617 , 19.39501  , 19.360275 , 19.518398 , 19.414907 ,\n",
       "        18.996723 , 17.976295 , 18.132523 , 18.513842 , 19.056751 ,\n",
       "        19.67041  , 19.934652 , 20.083076 , 20.100492 , 20.028858 ,\n",
       "        20.02873  , 20.07297  , 20.24051  , 20.30893  , 20.432863 ,\n",
       "        20.472677 , 20.416403 , 20.239231 , 20.069275 , 19.896751 ,\n",
       "        19.96233  , 20.092966 , 20.305353 , 20.59981  , 20.859276 ,\n",
       "        20.923185 , 20.735281 , 20.508705 , 20.372458 , 20.284962 ,\n",
       "        20.240154 , 20.248823 , 20.190632 , 20.222263 , 20.231903 ,\n",
       "        20.271513 , 20.37477  , 20.521118 , 20.722212 , 20.638697 ,\n",
       "        20.288385 , 19.732353 , 19.344194 , 18.956789 , 18.49733  ,\n",
       "        17.971184 , 16.488192 , 14.589096 , 13.645495 , 12.744216 ,\n",
       "        12.327722 , 12.017708 , 11.682857 , 11.456114 , 11.310121 ,\n",
       "        11.389619 , 11.094252 , 10.25573  ,  9.194981 ,  8.417569 ,\n",
       "         8.286906 ,  8.085255 ,  8.870004 ,  9.693109 , 10.942344 ,\n",
       "        15.139025 , 17.018837 , 18.11122  , 18.835863 , 19.458717 ,\n",
       "        19.712725 , 19.620792 , 19.039642 , 18.504137 , 18.661686 ,\n",
       "        19.70507  , 20.75701  , 21.172758 , 21.179058 , 20.91575  ,\n",
       "        20.33072  , 18.8369   , 16.042198 , 15.128927 , 14.051383 ,\n",
       "        13.789611 , 14.405696 , 15.852726 , 16.76362  , 17.527027 ,\n",
       "        17.8831   , 17.887358 , 17.390205 , 16.875528 , 16.983387 ,\n",
       "        17.116983 , 16.56443  , 17.184458 , 18.249777 , 18.94414  ,\n",
       "        19.266218 , 19.513985 , 19.542936 , 19.22896  , 18.45996  ,\n",
       "        17.126455 , 14.964622 , 15.324449 , 17.908941 , 19.166374 ,\n",
       "        19.980669 , 19.945654 , 18.989029 , 16.637205 , 16.388906 ,\n",
       "        17.366251 , 17.533762 , 17.753794 , 18.46535  , 19.327755 ,\n",
       "        19.790264 , 19.836191 , 19.54937  , 18.975836 , 16.961767 ,\n",
       "        14.613539 , 17.254742 , 17.777184 , 18.533669 , 19.275694 ,\n",
       "        19.470558 , 19.300007 , 19.080864 , 18.5827   , 17.942667 ,\n",
       "        17.560112 , 16.98024  , 16.156464 , 15.783    , 16.588139 ,\n",
       "        17.547928 , 17.686178 , 18.110403 , 18.904697 , 19.749096 ,\n",
       "        20.224026 , 20.51269  , 20.644384 , 20.62426  , 20.543453 ,\n",
       "        20.471745 , 20.3154   , 20.183565 , 20.282484 , 20.080034 ,\n",
       "        18.695324 , 15.533089 , 14.57745  , 13.811955 , 13.326684 ,\n",
       "        13.126721 , 12.285733 , 10.949439 , 10.558238 , 10.599754 ,\n",
       "        10.696696 , 10.207646 ,  9.902513 ,  9.698384 ,  8.774171 ,\n",
       "         7.956873 ,  7.5718904, 10.306462 , 16.394106 , 18.73646  ,\n",
       "        19.621006 , 20.039827 , 20.209076 , 20.27317  , 20.329184 ,\n",
       "        20.242764 , 20.216022 , 20.08082  , 20.034468 , 19.59797  ,\n",
       "        19.420433 , 19.177156 , 18.91617  , 18.815584 , 18.34097  ,\n",
       "        17.502    , 15.900965 , 13.860094 , 13.03554  , 11.908178 ,\n",
       "        11.590697 , 11.190943 , 10.239336 ,  9.577737 ,  9.025013 ,\n",
       "         8.656914 ,  8.001299 ,  7.514831 ,  7.340148 ,  6.688349 ,\n",
       "         6.6829615,  7.1213703,  7.3744783,  7.7705107,  7.871655 ,\n",
       "         7.9865966,  7.939674 ,  7.9783573,  7.8364143,  7.893683 ,\n",
       "         7.844458 ,  7.907923 ], dtype=float32),\n",
       " None,\n",
       " None]"
      ]
     },
     "execution_count": 65,
     "metadata": {},
     "output_type": "execute_result"
    }
   ],
   "source": [
    "plp_features"
   ]
  },
  {
   "cell_type": "code",
   "execution_count": 62,
   "metadata": {},
   "outputs": [
    {
     "data": {
      "text/plain": [
       "(311, 13)"
      ]
     },
     "execution_count": 62,
     "metadata": {},
     "output_type": "execute_result"
    }
   ],
   "source": [
    "np.shape(plp_features[0])"
   ]
  }
 ],
 "metadata": {
  "kernelspec": {
   "display_name": "Python 3",
   "language": "python",
   "name": "python3"
  },
  "language_info": {
   "codemirror_mode": {
    "name": "ipython",
    "version": 3
   },
   "file_extension": ".py",
   "mimetype": "text/x-python",
   "name": "python",
   "nbconvert_exporter": "python",
   "pygments_lexer": "ipython3",
   "version": "3.6.7"
  }
 },
 "nbformat": 4,
 "nbformat_minor": 2
}
