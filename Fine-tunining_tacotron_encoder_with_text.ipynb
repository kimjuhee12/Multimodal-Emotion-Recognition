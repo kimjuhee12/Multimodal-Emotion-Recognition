{
 "cells": [
  {
   "cell_type": "code",
   "execution_count": 5,
   "metadata": {},
   "outputs": [
    {
     "name": "stdout",
     "output_type": "stream",
     "text": [
      "WARNING:tensorflow:\n",
      "The TensorFlow contrib module will not be included in TensorFlow 2.0.\n",
      "For more information, please see:\n",
      "  * https://github.com/tensorflow/community/blob/master/rfcs/20180907-contrib-sunset.md\n",
      "  * https://github.com/tensorflow/addons\n",
      "  * https://github.com/tensorflow/io (for I/O related ops)\n",
      "If you depend on functionality not listed there, please file an issue.\n",
      "\n"
     ]
    }
   ],
   "source": [
    "import tensorflow as tf\n",
    "import numpy as np\n",
    "\n",
    "from tacotron import create_model, get_most_recent_checkpoint\n",
    "from hparams import hparams\n",
    "from text import text_to_sequence, sequence_to_text\n",
    "\n",
    "def _pad_input(x, length):\n",
    "    return np.pad(x, (0, length - x.shape[0]), mode='constant', constant_values=0)\n",
    "\n",
    "def _prepare_inputs(inputs):  # inputs: batch 길이 만큼의 list\n",
    "    max_len = max((len(x) for x in inputs))\n",
    "    return np.stack([_pad_input(x, max_len) for x in inputs])  # (batch_size, max_len)\n",
    "    \"\"\"\n",
    "    batch_size = 2 일 떼,\n",
    "    [[13, 26, 13, 41, 13, 21, 13, 41, 13, 21, 13, 41,  9, 41, 13, 40,79, 14, 34, 13, 33, 79, 20, 32, 13, 35, 45,  2, 34, 42, 13, 39,7, 29, 11, 25,  1],\n",
    "    [ 6, 29, 79, 14, 26, 14, 34,  5, 29, 79,  2, 30, 45,  2, 28, 14,21, 79, 13, 27,  7, 25,  9, 34, 45, 13, 40, 79,  4, 29,  2, 29,13, 26,  1,  0,  0]]    \n",
    "    \"\"\""
   ]
  },
  {
   "cell_type": "code",
   "execution_count": 6,
   "metadata": {},
   "outputs": [],
   "source": [
    "emotions = [\"Neutrality\", \"Anger\", \"Happiness\", \"Sadness\"]\n",
    "class_size = 4\n",
    "max_dim = 160\n",
    "embed_dim = 256\n",
    "\n",
    "hidden_dim = 200"
   ]
  },
  {
   "cell_type": "markdown",
   "metadata": {},
   "source": [
    "## 1. 데이터 로드"
   ]
  },
  {
   "cell_type": "markdown",
   "metadata": {},
   "source": [
    "- training data"
   ]
  },
  {
   "cell_type": "code",
   "execution_count": 11,
   "metadata": {},
   "outputs": [],
   "source": [
    "path = \"data/\"\n",
    "\n",
    "training_text = \"text.txt\"\n",
    "\n",
    "wav_filename_list = []\n",
    "training_emotion_list = []\n",
    "text_list = []\n",
    "\n",
    "f = open(path+training_text,'r')\n",
    "\n",
    "while True:\n",
    "    line = f.readline()\n",
    "    \n",
    "    if not line: break\n",
    "    \n",
    "    filename, text, emotion = line.split('\\t')\n",
    "    \n",
    "    if emotion[-1] == \"\\n\":\n",
    "        emotion = emotion[:-1]\n",
    "        \n",
    "    wav_filename_list.append(filename.replace('\\\\','/'))\n",
    "    training_emotion_list.append(emotion)\n",
    "    text_list.append(text)\n",
    "    \n",
    "f.close()"
   ]
  },
  {
   "cell_type": "code",
   "execution_count": 12,
   "metadata": {},
   "outputs": [],
   "source": [
    "Training_vector = list()\n",
    "Training_input_lengths = list()\n",
    "\n",
    "for text in text_list:\n",
    "    # text -> int embedding sequence\n",
    "    texts = [text]\n",
    "    \n",
    "    sequences = np.array([text_to_sequence(text) for text in texts]) # ['사실대로 말했으면 아빠가 어떻게 했겠어?']\n",
    "    \n",
    "    sequences = _prepare_inputs(sequences) # [[11 21 11 41 49  5 22  7 29 79  8 21 49 20 22 61 13 39  8 27 45 79 13 21 10 21  2 21 79 13 25  6 25 68  2 26 79 20 22 61  2 26 61 13 25 78  1]]\n",
    "    \n",
    "    input_length = [np.argmax(a==1)+1 for a in sequences] # sequences의 길이 +1 해서 저장 #[47]\n",
    "    \n",
    "    Training_vector.append(sequences)\n",
    "    Training_input_lengths.append(input_length)"
   ]
  },
  {
   "cell_type": "code",
   "execution_count": 13,
   "metadata": {},
   "outputs": [
    {
     "name": "stdout",
     "output_type": "stream",
     "text": [
      "[array([[13, 21,  4, 41, 14, 41, 79,  4, 22,  2, 21, 79, 14, 29,  2, 39,\n",
      "        57,  8, 21, 45, 79,  2, 41,  5, 21,  7, 41,  7, 21, 79,  2, 39,\n",
      "         7, 22, 61, 14, 21, 47, 13, 21, 79,  2, 39, 57,  9, 21, 62, 79,\n",
      "         2, 21,  2, 26, 61,  5, 21,  2, 29,  1]], dtype=int32), array([[ 4, 25,  8, 34, 79, 14, 41, 58, 13, 33, 20, 21, 14, 21, 47, 13,\n",
      "        21, 13, 33,  1]], dtype=int32), array([[ 8, 21, 13, 39, 57, 79,  9, 27, 45, 20, 21,  2, 41, 79, 14, 25,\n",
      "        45, 13, 26, 79, 13, 25, 49,  7, 39, 45, 79,  2, 29, 49,  7, 21,\n",
      "        75,  1]], dtype=int32), array([[ 2, 39, 79, 11, 21,  7, 21, 57, 13, 39, 45, 79,  9, 25, 58, 13,\n",
      "        26, 79,  6, 21,  7, 21, 79, 16, 25,  9, 25, 49, 13, 39, 49, 79,\n",
      "         9, 21, 48,  2, 26, 79,  5, 32, 49, 79,  2, 25, 13, 28, 13, 33,\n",
      "        75,  1]], dtype=int32)]\n"
     ]
    }
   ],
   "source": [
    "print(Training_vector)"
   ]
  },
  {
   "cell_type": "code",
   "execution_count": 14,
   "metadata": {},
   "outputs": [
    {
     "name": "stdout",
     "output_type": "stream",
     "text": [
      "[[58], [20], [34], [50]]\n"
     ]
    }
   ],
   "source": [
    "print(Training_input_lengths)"
   ]
  },
  {
   "cell_type": "code",
   "execution_count": 15,
   "metadata": {},
   "outputs": [
    {
     "name": "stdout",
     "output_type": "stream",
     "text": [
      "[[ 2 39 79 11 21  7 21 57 13 39 45 79  9 25 58 13 26 79  6 21  7 21 79 16\n",
      "  25  9 25 49 13 39 49 79  9 21 48  2 26 79  5 32 49 79  2 25 13 28 13 33\n",
      "  75  1]]\n"
     ]
    }
   ],
   "source": [
    "print(sequences)"
   ]
  },
  {
   "cell_type": "code",
   "execution_count": 26,
   "metadata": {},
   "outputs": [
    {
     "name": "stdout",
     "output_type": "stream",
     "text": [
      "[47]\n"
     ]
    }
   ],
   "source": [
    "print(input_length)"
   ]
  },
  {
   "cell_type": "code",
   "execution_count": 23,
   "metadata": {},
   "outputs": [
    {
     "name": "stdout",
     "output_type": "stream",
     "text": [
      "[11 21 11 41 49  5 22  7 29 79  8 21 49 20 22 61 13 39  8 27 45 79 13 21\n",
      " 10 21  2 21 79 13 25  6 25 68  2 26 79 20 22 61  2 26 61 13 25 78  1]\n"
     ]
    }
   ],
   "source": [
    "print((Training_vector[-1][0]))"
   ]
  },
  {
   "cell_type": "code",
   "execution_count": 14,
   "metadata": {},
   "outputs": [
    {
     "name": "stdout",
     "output_type": "stream",
     "text": [
      "[[13 21  4 41 79 14 25 79 11 21  7 21 57  5 39 49 13 41 79 19 29 42  7 27\n",
      "  42 11 28 19 39 79 13 25 15 25  2 29 79 20 21  8 27 45 11 25 79 18 39 14\n",
      "  41 58 14 21 58 13 39  4 41  3 21 69  1]]\n",
      "[[13 25  8 25 79 13 24 79  5 29 49 13 21 61  4 21  9 30  1]]\n",
      "[[ 5 21 62 11 41 45 79  8 21 13 39 57  5 22  7 29 79 20 21  4 39 45 79  2\n",
      "  25 75  1]]\n",
      "[[ 2 39  7 25 57 79  4 21 79  9 34 18 21 42 79 20 21  4 21  8 21 45 79  5\n",
      "  39 49 13 25 14 35 13 33 79 11 25 45  9 22  1]]\n"
     ]
    }
   ],
   "source": [
    "print((Training_vector[0]))\n",
    "print((Training_vector[1]))\n",
    "print((Training_vector[2]))\n",
    "print((Training_vector[3]))"
   ]
  },
  {
   "cell_type": "code",
   "execution_count": 15,
   "metadata": {},
   "outputs": [
    {
     "name": "stdout",
     "output_type": "stream",
     "text": [
      "[13 21  4 41 79 14 25 79 11 21  7 21 57  5 39 49 13 41 79 19 29 42  7 27\n",
      " 42 11 28 19 39 79 13 25 15 25  2 29 79 20 21  8 27 45 11 25 79 18 39 14\n",
      " 41 58 14 21 58 13 39  4 41  3 21 69  1]\n",
      "[13 25  8 25 79 13 24 79  5 29 49 13 21 61  4 21  9 30  1]\n",
      "[ 5 21 62 11 41 45 79  8 21 13 39 57  5 22  7 29 79 20 21  4 39 45 79  2\n",
      " 25 75  1]\n",
      "[ 2 39  7 25 57 79  4 21 79  9 34 18 21 42 79 20 21  4 21  8 21 45 79  5\n",
      " 39 49 13 25 14 35 13 33 79 11 25 45  9 22  1]\n"
     ]
    }
   ],
   "source": [
    "print((Training_vector[0][0]))\n",
    "print((Training_vector[1][0]))\n",
    "print((Training_vector[2][0]))\n",
    "print((Training_vector[3][0]))"
   ]
  },
  {
   "cell_type": "code",
   "execution_count": 5,
   "metadata": {
    "scrolled": true
   },
   "outputs": [],
   "source": [
    "_max = 0\n",
    "for i in range(len(Training_vector)):\n",
    "    if _max < (len(Training_vector[i][0])): # '['가 두겹으로 되어 있으므로 한겹 벗겨서 생각하기 위해\n",
    "        _max = len(Training_vector[i][0])   # 가장 긴 문장의 integers의 길이 저장"
   ]
  },
  {
   "cell_type": "code",
   "execution_count": 6,
   "metadata": {},
   "outputs": [
    {
     "data": {
      "text/plain": [
       "159"
      ]
     },
     "execution_count": 6,
     "metadata": {},
     "output_type": "execute_result"
    }
   ],
   "source": [
    "_max"
   ]
  },
  {
   "cell_type": "code",
   "execution_count": 7,
   "metadata": {},
   "outputs": [
    {
     "data": {
      "text/plain": [
       "2800"
      ]
     },
     "execution_count": 7,
     "metadata": {},
     "output_type": "execute_result"
    }
   ],
   "source": [
    "len(Training_vector) # 각 문장들이 초성, 중성, 종성으로 나누어져 integer로 매칭되서 저장죄어 있음(괄호 두겹씩으로 묶여서 )"
   ]
  },
  {
   "cell_type": "markdown",
   "metadata": {},
   "source": [
    "- Training_vector 예시"
   ]
  },
  {
   "cell_type": "code",
   "execution_count": 8,
   "metadata": {},
   "outputs": [
    {
     "name": "stdout",
     "output_type": "stream",
     "text": [
      "Vector 길이 :  61\n",
      "[[13 21  4 41 79 14 25 79 11 21  7 21 57  5 39 49 13 41 79 19 29 42  7 27\n",
      "  42 11 28 19 39 79 13 25 15 25  2 29 79 20 21  8 27 45 11 25 79 18 39 14\n",
      "  41 58 14 21 58 13 39  4 41  3 21 69  1]]\n"
     ]
    }
   ],
   "source": [
    "print (\"Vector 길이 : \", len(Training_vector[0][0]))\n",
    "print(Training_vector[0])"
   ]
  },
  {
   "cell_type": "markdown",
   "metadata": {},
   "source": [
    "- test data"
   ]
  },
  {
   "cell_type": "code",
   "execution_count": 9,
   "metadata": {},
   "outputs": [],
   "source": [
    "path = \"data/\"\n",
    "\n",
    "test_text = \"test.txt\"\n",
    "\n",
    "wav_filename_list = []\n",
    "test_emotion_list = []\n",
    "text_list = []\n",
    "\n",
    "f = open(path+test_text,'r')\n",
    "\n",
    "while True:\n",
    "    line = f.readline()\n",
    "    \n",
    "    if not line: break\n",
    "    \n",
    "    filename, text, emotion = line.split('\\t')\n",
    "    \n",
    "    if emotion[-1] == \"\\n\":\n",
    "        emotion = emotion[:-1]\n",
    "        \n",
    "    wav_filename_list.append(filename.replace('\\\\','/'))\n",
    "    test_emotion_list.append(emotion)\n",
    "    text_list.append(text)\n",
    "    \n",
    "f.close()"
   ]
  },
  {
   "cell_type": "code",
   "execution_count": 10,
   "metadata": {},
   "outputs": [],
   "source": [
    "Test_vector = list()\n",
    "Test_input_lengths = list()\n",
    "\n",
    "for text in text_list:\n",
    "    # text -> int embedding sequence\n",
    "    texts = [text]\n",
    "    \n",
    "    sequences = np.array([text_to_sequence(text) for text in texts])\n",
    "    sequences = _prepare_inputs(sequences)\n",
    "    \n",
    "    input_length = [np.argmax(a==1)+1 for a in sequences]\n",
    "    \n",
    "    Test_vector.append(sequences)\n",
    "    Test_input_lengths.append(input_length)"
   ]
  },
  {
   "cell_type": "code",
   "execution_count": 11,
   "metadata": {},
   "outputs": [],
   "source": [
    "_max = 0\n",
    "for i in range(len(Test_vector)):\n",
    "    if _max < (len(Test_vector[i][0])):\n",
    "        _max = len(Test_vector[i][0])"
   ]
  },
  {
   "cell_type": "code",
   "execution_count": 12,
   "metadata": {
    "scrolled": true
   },
   "outputs": [
    {
     "data": {
      "text/plain": [
       "98"
      ]
     },
     "execution_count": 12,
     "metadata": {},
     "output_type": "execute_result"
    }
   ],
   "source": [
    "_max"
   ]
  },
  {
   "cell_type": "markdown",
   "metadata": {},
   "source": [
    "- Test vector 예시"
   ]
  },
  {
   "cell_type": "code",
   "execution_count": 13,
   "metadata": {},
   "outputs": [
    {
     "name": "stdout",
     "output_type": "stream",
     "text": [
      "Vector 길이 :  58\n",
      "[[13 21  4 41 14 41 79  4 22  2 21 79 14 29  2 39 57  8 21 45 79  2 41  5\n",
      "  21  7 41  7 21 79  2 39  7 22 61 14 21 47 13 21 79  2 39 57  9 21 62 79\n",
      "   2 21  2 26 61  5 21  2 29  1]]\n"
     ]
    }
   ],
   "source": [
    "print (\"Vector 길이 : \", len(Test_vector[0][0]))\n",
    "print(Test_vector[0])"
   ]
  },
  {
   "cell_type": "markdown",
   "metadata": {},
   "source": [
    "## 2. Input Sequence to Tacotron Text Embedding "
   ]
  },
  {
   "cell_type": "markdown",
   "metadata": {},
   "source": [
    "- Pre-trained tacotron model"
   ]
  },
  {
   "cell_type": "code",
   "execution_count": null,
   "metadata": {
    "scrolled": true
   },
   "outputs": [
    {
     "name": "stdout",
     "output_type": "stream",
     "text": [
      " [*] Found lastest checkpoint: Trained_model/model.ckpt-200000\n",
      "WARNING:tensorflow:From /home/pmp/Workspace/JuHee/SpeechEmotionRecognition/last/tacotron/tacotron.py:51: The name tf.get_variable is deprecated. Please use tf.compat.v1.get_variable instead.\n",
      "\n",
      "WARNING:tensorflow:From /home/pmp/Workspace/JuHee/SpeechEmotionRecognition/last/tacotron/modules.py:21: dense (from tensorflow.python.layers.core) is deprecated and will be removed in a future version.\n",
      "Instructions for updating:\n",
      "Use keras.layers.Dense instead.\n",
      "WARNING:tensorflow:From /home/pmp/anaconda3/envs/tensorflow2/lib/python3.6/site-packages/tensorflow_core/python/layers/core.py:187: Layer.apply (from tensorflow.python.keras.engine.base_layer) is deprecated and will be removed in a future version.\n",
      "Instructions for updating:\n",
      "Please use `layer.__call__` method instead.\n",
      "WARNING:tensorflow:From /home/pmp/Workspace/JuHee/SpeechEmotionRecognition/last/tacotron/modules.py:22: dropout (from tensorflow.python.layers.core) is deprecated and will be removed in a future version.\n",
      "Instructions for updating:\n",
      "Use keras.layers.dropout instead.\n",
      "WARNING:tensorflow:From /home/pmp/Workspace/JuHee/SpeechEmotionRecognition/last/tacotron/modules.py:95: conv1d (from tensorflow.python.layers.convolutional) is deprecated and will be removed in a future version.\n",
      "Instructions for updating:\n",
      "Use `tf.keras.layers.Conv1D` instead.\n",
      "WARNING:tensorflow:From /home/pmp/Workspace/JuHee/SpeechEmotionRecognition/last/tacotron/modules.py:96: batch_normalization (from tensorflow.python.layers.normalization) is deprecated and will be removed in a future version.\n",
      "Instructions for updating:\n",
      "Use keras.layers.BatchNormalization instead.  In particular, `tf.control_dependencies(tf.GraphKeys.UPDATE_OPS)` should not be used (consult the `tf.keras.layers.batch_normalization` documentation).\n",
      "WARNING:tensorflow:From /home/pmp/Workspace/JuHee/SpeechEmotionRecognition/last/tacotron/modules.py:38: max_pooling1d (from tensorflow.python.layers.pooling) is deprecated and will be removed in a future version.\n",
      "Instructions for updating:\n",
      "Use keras.layers.MaxPooling1D instead.\n",
      "WARNING:tensorflow:From /home/pmp/Workspace/JuHee/SpeechEmotionRecognition/last/tacotron/modules.py:71: GRUCell.__init__ (from tensorflow.python.ops.rnn_cell_impl) is deprecated and will be removed in a future version.\n",
      "Instructions for updating:\n",
      "This class is equivalent as tf.keras.layers.GRUCell, and will be replaced by that in Tensorflow 2.0.\n",
      "WARNING:tensorflow:From /home/pmp/Workspace/JuHee/SpeechEmotionRecognition/last/tacotron/modules.py:73: bidirectional_dynamic_rnn (from tensorflow.python.ops.rnn) is deprecated and will be removed in a future version.\n",
      "Instructions for updating:\n",
      "Please use `keras.layers.Bidirectional(keras.layers.RNN(cell))`, which is equivalent to this API\n",
      "WARNING:tensorflow:From /home/pmp/anaconda3/envs/tensorflow2/lib/python3.6/site-packages/tensorflow_core/python/ops/rnn.py:464: dynamic_rnn (from tensorflow.python.ops.rnn) is deprecated and will be removed in a future version.\n",
      "Instructions for updating:\n",
      "Please use `keras.layers.RNN(cell)`, which is equivalent to this API\n",
      "WARNING:tensorflow:From /home/pmp/anaconda3/envs/tensorflow2/lib/python3.6/site-packages/tensorflow_core/python/ops/rnn_cell_impl.py:559: Layer.add_variable (from tensorflow.python.keras.engine.base_layer) is deprecated and will be removed in a future version.\n",
      "Instructions for updating:\n",
      "Please use `layer.add_weight` method instead.\n",
      "WARNING:tensorflow:From /home/pmp/anaconda3/envs/tensorflow2/lib/python3.6/site-packages/tensorflow_core/python/ops/rnn_cell_impl.py:565: calling Constant.__init__ (from tensorflow.python.ops.init_ops) with dtype is deprecated and will be removed in a future version.\n",
      "Instructions for updating:\n",
      "Call initializer instance with the dtype argument instead of passing it to the constructor\n",
      "WARNING:tensorflow:From /home/pmp/anaconda3/envs/tensorflow2/lib/python3.6/site-packages/tensorflow_core/python/ops/rnn_cell_impl.py:575: calling Zeros.__init__ (from tensorflow.python.ops.init_ops) with dtype is deprecated and will be removed in a future version.\n",
      "Instructions for updating:\n",
      "Call initializer instance with the dtype argument instead of passing it to the constructor\n",
      "WARNING:tensorflow:From /home/pmp/anaconda3/envs/tensorflow2/lib/python3.6/site-packages/tensorflow_core/python/ops/rnn.py:244: where (from tensorflow.python.ops.array_ops) is deprecated and will be removed in a future version.\n",
      "Instructions for updating:\n",
      "Use tf.where in 2.0, which has the same broadcast rule as np.where\n",
      "WARNING:tensorflow:From /home/pmp/Workspace/JuHee/SpeechEmotionRecognition/last/tacotron/tacotron.py:177: MultiRNNCell.__init__ (from tensorflow.python.ops.rnn_cell_impl) is deprecated and will be removed in a future version.\n",
      "Instructions for updating:\n",
      "This class is equivalent as tf.keras.layers.StackedRNNCells, and will be replaced by that in Tensorflow 2.0.\n",
      "WARNING:tensorflow:From /home/pmp/Workspace/JuHee/SpeechEmotionRecognition/last/tacotron/rnn_wrappers.py:184: The name tf.assert_equal is deprecated. Please use tf.compat.v1.assert_equal instead.\n",
      "\n",
      "========================================\n",
      " model_type: single\n",
      "========================================\n",
      "Initialized Tacotron model. Dimensions: \n",
      "    embedding:                256\n",
      "    speaker embedding:        None\n",
      "    prenet out:               128\n",
      "    encoder out:              256\n",
      "    attention out:            256\n",
      "    concat attn & out:        512\n",
      "    decoder cell out:         256\n",
      "    decoder out (5 frames):  400\n",
      "    decoder out (1 frame):    80\n",
      "    postnet out:              256\n",
      "    linear out:               1025\n"
     ]
    }
   ],
   "source": [
    "import tensorflow as tf\n",
    "import numpy as np\n",
    "\n",
    "from tacotron import create_model, get_most_recent_checkpoint\n",
    "from hparams import hparams\n",
    "from text import text_to_sequence, sequence_to_text\n",
    "\n",
    "def _pad_input(x, length):\n",
    "    return np.pad(x, (0, length - x.shape[0]), mode='constant', constant_values=0)\n",
    "\n",
    "def _prepare_inputs(inputs):  # inputs: batch 길이 만큼의 list\n",
    "    max_len = max((len(x) for x in inputs))\n",
    "    return np.stack([_pad_input(x, max_len) for x in inputs])  # (batch_size, max_len)\n",
    "    \"\"\"\n",
    "    batch_size = 2 일 떼,\n",
    "    [[13, 26, 13, 41, 13, 21, 13, 41, 13, 21, 13, 41,  9, 41, 13, 40,79, 14, 34, 13, 33, 79, 20, 32, 13, 35, 45,  2, 34, 42, 13, 39,7, 29, 11, 25,  1],\n",
    "    [ 6, 29, 79, 14, 26, 14, 34,  5, 29, 79,  2, 30, 45,  2, 28, 14,21, 79, 13, 27,  7, 25,  9, 34, 45, 13, 40, 79,  4, 29,  2, 29,13, 26,  1,  0,  0]]    \n",
    "    \"\"\"\n",
    "    \n",
    "num_speakers = 1\n",
    "speaker_ids = [0]\n",
    "\n",
    "checkpoint_path = get_most_recent_checkpoint(\"Trained_model\")\n",
    "\n",
    "inputs = tf.placeholder(tf.int32, [None, None], 'inputs')\n",
    "input_lengths = tf.placeholder(tf.int32, [None], 'input_lengths')\n",
    "\n",
    "batch_size = tf.shape(inputs)[0]\n",
    "speaker_id = tf.placeholder_with_default(\n",
    "            tf.zeros([batch_size], dtype=tf.int32), [None], 'speaker_id')\n",
    "\n",
    "\n",
    "with tf.variable_scope('model') as scope:\n",
    "    model = create_model(hparams)\n",
    "    model.initialize(inputs, input_lengths, num_speakers, speaker_id,rnn_decoder_test_mode=True)\n",
    "    \n",
    "sess = tf.Session()\n",
    "sess.run(tf.global_variables_initializer())\n",
    "saver = tf.train.Saver()\n",
    "saver.restore(sess, checkpoint_path)"
   ]
  },
  {
   "cell_type": "markdown",
   "metadata": {},
   "source": [
    "- Training_vector"
   ]
  },
  {
   "cell_type": "code",
   "execution_count": 15,
   "metadata": {
    "scrolled": true
   },
   "outputs": [],
   "source": [
    "Training_embedding_vector = []\n",
    "\n",
    "for i in range(len(Training_vector)):\n",
    "    sequences = Training_vector[i]\n",
    "    length = Training_input_lengths[i]\n",
    "    feed_dict = { model.inputs: sequences, model.input_lengths: length, }\n",
    "    feed_dict[model.speaker_id] = speaker_ids\n",
    "    \n",
    "    encoder_out = sess.run(model.encoder_outputs,feed_dict=feed_dict)\n",
    "    \n",
    "    Training_embedding_vector.append(encoder_out)"
   ]
  },
  {
   "cell_type": "code",
   "execution_count": 16,
   "metadata": {},
   "outputs": [
    {
     "name": "stdout",
     "output_type": "stream",
     "text": [
      "2800\n",
      "(1, 61, 256)\n"
     ]
    }
   ],
   "source": [
    "print(len(Training_embedding_vector))\n",
    "print(np.shape(Training_embedding_vector[0]))"
   ]
  },
  {
   "cell_type": "markdown",
   "metadata": {},
   "source": [
    "- Test_vector"
   ]
  },
  {
   "cell_type": "code",
   "execution_count": 17,
   "metadata": {},
   "outputs": [],
   "source": [
    "Test_embedding_vector = []\n",
    "\n",
    "for i in range(len(Test_vector)):\n",
    "    sequences = Test_vector[i]\n",
    "    length = Test_input_lengths[i]\n",
    "    feed_dict = { model.inputs: sequences, model.input_lengths: length, }\n",
    "    feed_dict[model.speaker_id] = speaker_ids\n",
    "    \n",
    "    encoder_out = sess.run(model.encoder_outputs,feed_dict=feed_dict)\n",
    "    \n",
    "    Test_embedding_vector.append(encoder_out)"
   ]
  },
  {
   "cell_type": "code",
   "execution_count": 18,
   "metadata": {},
   "outputs": [
    {
     "name": "stdout",
     "output_type": "stream",
     "text": [
      "1726\n",
      "(1, 58, 256)\n"
     ]
    }
   ],
   "source": [
    "print(len(Test_embedding_vector))\n",
    "print(np.shape(Test_embedding_vector[0]))"
   ]
  },
  {
   "cell_type": "code",
   "execution_count": 19,
   "metadata": {},
   "outputs": [],
   "source": [
    "sess.close()"
   ]
  },
  {
   "cell_type": "markdown",
   "metadata": {},
   "source": [
    "## 3. 데이터 정리"
   ]
  },
  {
   "cell_type": "markdown",
   "metadata": {},
   "source": [
    "- zero-padding\n",
    "- (N,1,length, embedding dim) //중간에 1 삭제 == > (N, length, embedding dim)"
   ]
  },
  {
   "cell_type": "code",
   "execution_count": 3,
   "metadata": {},
   "outputs": [],
   "source": [
    "zero_padding = np.random.normal(size=embed_dim)"
   ]
  },
  {
   "cell_type": "markdown",
   "metadata": {},
   "source": [
    "- Training data"
   ]
  },
  {
   "cell_type": "code",
   "execution_count": 21,
   "metadata": {
    "scrolled": true
   },
   "outputs": [],
   "source": [
    "# 160보다 length 짧은거 max_dim=160에 맞춰서 0으로 패딩해주기\n",
    "res = []\n",
    "for i in range( len(Training_embedding_vector) ):\n",
    "    cnt = max_dim - len(Training_embedding_vector[i][0])\n",
    "    \n",
    "    temp = [zero_padding for _ in range(cnt)]\n",
    "    res.append( np.concatenate( (Training_embedding_vector[i][0], temp), axis = 0 ) )\n",
    "    \n",
    "X_train = np.array(res)"
   ]
  },
  {
   "cell_type": "code",
   "execution_count": 22,
   "metadata": {
    "scrolled": false
   },
   "outputs": [
    {
     "data": {
      "text/plain": [
       "(2800, 160, 256)"
      ]
     },
     "execution_count": 22,
     "metadata": {},
     "output_type": "execute_result"
    }
   ],
   "source": [
    "np.shape(X_train)"
   ]
  },
  {
   "cell_type": "markdown",
   "metadata": {},
   "source": [
    "- Test data"
   ]
  },
  {
   "cell_type": "code",
   "execution_count": 23,
   "metadata": {},
   "outputs": [],
   "source": [
    "res = []\n",
    "for i in range( len(Test_embedding_vector) ):\n",
    "    cnt = max_dim - len(Test_embedding_vector[i][0])\n",
    "    \n",
    "    temp = [zero_padding for _ in range(cnt)]\n",
    "    res.append( np.concatenate( (Test_embedding_vector[i][0], temp), axis = 0 ) )\n",
    "    \n",
    "X_test = np.array(res)"
   ]
  },
  {
   "cell_type": "code",
   "execution_count": 24,
   "metadata": {},
   "outputs": [
    {
     "data": {
      "text/plain": [
       "(1726, 160, 256)"
      ]
     },
     "execution_count": 24,
     "metadata": {},
     "output_type": "execute_result"
    }
   ],
   "source": [
    "np.shape(X_test)"
   ]
  },
  {
   "cell_type": "markdown",
   "metadata": {},
   "source": [
    "- label 정리"
   ]
  },
  {
   "cell_type": "code",
   "execution_count": 25,
   "metadata": {},
   "outputs": [],
   "source": [
    "from sklearn.preprocessing import label_binarize"
   ]
  },
  {
   "cell_type": "code",
   "execution_count": 26,
   "metadata": {},
   "outputs": [],
   "source": [
    "Training_label = []\n",
    "for ix in range(len(training_emotion_list)):\n",
    "    Training_label.append(emotions.index(training_emotion_list[ix]))"
   ]
  },
  {
   "cell_type": "code",
   "execution_count": 27,
   "metadata": {},
   "outputs": [],
   "source": [
    "Test_label = []\n",
    "for ix in range(len(test_emotion_list)):\n",
    "    Test_label.append(emotions.index(test_emotion_list[ix]))"
   ]
  },
  {
   "cell_type": "code",
   "execution_count": 28,
   "metadata": {},
   "outputs": [],
   "source": [
    "Y_train = label_binarize(Training_label, classes = list(range(class_size)))\n",
    "Y_test = label_binarize(Test_label, classes = list(range(class_size)))"
   ]
  },
  {
   "cell_type": "code",
   "execution_count": 29,
   "metadata": {},
   "outputs": [
    {
     "name": "stdout",
     "output_type": "stream",
     "text": [
      "(2800, 160, 256) (2800, 4)\n",
      "(1726, 160, 256) (1726, 4)\n"
     ]
    }
   ],
   "source": [
    "print(np.shape(X_train), np.shape(Y_train))\n",
    "print(np.shape(X_test), np.shape(Y_test))"
   ]
  },
  {
   "cell_type": "markdown",
   "metadata": {},
   "source": [
    "## Model"
   ]
  },
  {
   "cell_type": "code",
   "execution_count": 38,
   "metadata": {},
   "outputs": [],
   "source": [
    "epochs = 2\n",
    "batch_size = 50"
   ]
  },
  {
   "cell_type": "code",
   "execution_count": 55,
   "metadata": {
    "scrolled": true
   },
   "outputs": [
    {
     "name": "stdout",
     "output_type": "stream",
     "text": [
      "Model: \"sequential\"\n",
      "_________________________________________________________________\n",
      "Layer (type)                 Output Shape              Param #   \n",
      "=================================================================\n",
      "lstm (LSTM)                  (None, 200)               365600    \n",
      "_________________________________________________________________\n",
      "dense (Dense)                (None, 128)               25728     \n",
      "_________________________________________________________________\n",
      "dense_1 (Dense)              (None, 4)                 516       \n",
      "=================================================================\n",
      "Total params: 391,844\n",
      "Trainable params: 391,844\n",
      "Non-trainable params: 0\n",
      "_________________________________________________________________\n"
     ]
    }
   ],
   "source": [
    "tf.keras.backend.clear_session()\n",
    "LSTMmodel = tf.keras.models.Sequential()\n",
    "#return_sequences = True,\n",
    "#dropout=0.5, recurrent_dropout = 0.5, \n",
    "LSTMmodel.add(tf.keras.layers.LSTM(hidden_dim, dropout=0.5, recurrent_dropout = 0.5, input_shape = (max_dim, embed_dim)))\n",
    "LSTMmodel.add(tf.keras.layers.Dense(128, activation='relu'))\n",
    "LSTMmodel.add(tf.keras.layers.Dense(class_size, kernel_regularizer= tf.keras.regularizers.l2(0.001), activation='softmax'))\n",
    "\n",
    "LSTMmodel.summary()\n",
    "\n",
    "LSTMmodel.compile(optimizer='rmsprop', loss='categorical_crossentropy', metrics=['acc'])"
   ]
  },
  {
   "cell_type": "code",
   "execution_count": 56,
   "metadata": {
    "scrolled": true
   },
   "outputs": [
    {
     "name": "stdout",
     "output_type": "stream",
     "text": [
      "Train on 2800 samples, validate on 1726 samples\n",
      "Epoch 1/2\n",
      "2800/2800 [==============================] - 25s 9ms/sample - loss: 1.4257 - acc: 0.2432 - val_loss: 1.4917 - val_acc: 0.1385\n",
      "Epoch 2/2\n",
      "2800/2800 [==============================] - 26s 9ms/sample - loss: 1.4015 - acc: 0.2482 - val_loss: 1.2454 - val_acc: 0.6842\n"
     ]
    }
   ],
   "source": [
    "history = LSTMmodel.fit(X_train,Y_train, epochs=epochs, batch_size=batch_size, validation_data=(X_test,Y_test))"
   ]
  },
  {
   "cell_type": "code",
   "execution_count": 57,
   "metadata": {},
   "outputs": [
    {
     "name": "stdout",
     "output_type": "stream",
     "text": [
      "1726/1726 [==============================] - 4s 3ms/sample - loss: 1.2454 - acc: 0.6842\n"
     ]
    }
   ],
   "source": [
    "test_loss,test_acc = LSTMmodel.evaluate(X_test,Y_test)"
   ]
  },
  {
   "cell_type": "code",
   "execution_count": 42,
   "metadata": {
    "scrolled": true
   },
   "outputs": [
    {
     "name": "stdout",
     "output_type": "stream",
     "text": [
      "0.684241\n"
     ]
    }
   ],
   "source": [
    "print (test_acc)"
   ]
  },
  {
   "cell_type": "code",
   "execution_count": 44,
   "metadata": {},
   "outputs": [],
   "source": [
    "LSTMmodel.save(\"model/LSTM_dropout_class4_training2800.h5\")"
   ]
  },
  {
   "cell_type": "code",
   "execution_count": 49,
   "metadata": {},
   "outputs": [
    {
     "data": {
      "image/png": "[encoded data removed]",
      "text/plain": [
       "<Figure size 432x288 with 1 Axes>"
      ]
     },
     "metadata": {
      "needs_background": "light"
     },
     "output_type": "display_data"
    },
    {
     "data": {
      "image/png": "[encoded data removed]",
      "text/plain": [
       "<Figure size 432x288 with 1 Axes>"
      ]
     },
     "metadata": {
      "needs_background": "light"
     },
     "output_type": "display_data"
    }
   ],
   "source": [
    "import matplotlib.pyplot as plt\n",
    "\n",
    "acc = history.history[\"acc\"]\n",
    "val_acc = history.history['val_acc']\n",
    "loss = history.history['loss']\n",
    "val_loss = history.history['val_loss']\n",
    "\n",
    "epochs= range(1,len(acc)+1)\n",
    "\n",
    "plt.plot(epochs, acc, 'bo', label = 'Training acc')\n",
    "plt.plot(epochs, val_acc, 'b', label = 'Validation acc')\n",
    "plt.title('Training and validation accuracy')\n",
    "plt.legend()\n",
    "\n",
    "plt.figure()\n",
    "\n",
    "plt.plot(epochs, loss, 'bo', label = 'Training loss')\n",
    "plt.plot(epochs, val_loss,'b',label = 'Validation loss')\n",
    "plt.title('Training an validation loss')\n",
    "plt.legend()\n",
    "\n",
    "plt.show()"
   ]
  },
  {
   "cell_type": "code",
   "execution_count": null,
   "metadata": {},
   "outputs": [],
   "source": []
  },
  {
   "cell_type": "code",
   "execution_count": null,
   "metadata": {},
   "outputs": [],
   "source": []
  },
  {
   "cell_type": "code",
   "execution_count": null,
   "metadata": {},
   "outputs": [],
   "source": []
  },
  {
   "cell_type": "markdown",
   "metadata": {},
   "source": [
    "## Appendix"
   ]
  },
  {
   "cell_type": "code",
   "execution_count": 55,
   "metadata": {},
   "outputs": [
    {
     "name": "stdout",
     "output_type": "stream",
     "text": [
      " [*] Found lastest checkpoint: Trained_model/model.ckpt-200000\n",
      "========================================\n",
      " model_type: single\n",
      "========================================\n",
      "Initialized Tacotron model. Dimensions: \n",
      "    embedding:                256\n",
      "    speaker embedding:        None\n",
      "    prenet out:               128\n",
      "    encoder out:              256\n",
      "    attention out:            256\n",
      "    concat attn & out:        512\n",
      "    decoder cell out:         256\n",
      "    decoder out (5 frames):  400\n",
      "    decoder out (1 frame):    80\n",
      "    postnet out:              256\n",
      "    linear out:               1025\n",
      "INFO:tensorflow:Restoring parameters from Trained_model/model.ckpt-200000\n",
      "[[[ 0.0000000e+00  9.6732837e-01 -9.8763037e-01 ... -9.9943042e-01\n",
      "   -9.8349977e-01  8.9600855e-01]\n",
      "  [-1.1051817e-05  9.0454382e-01 -5.8325720e-01 ... -9.4815683e-01\n",
      "   -2.8077272e-01  8.9162952e-01]\n",
      "  [-1.0525452e-04  8.8934141e-01  9.9772209e-01 ...  1.1586651e-02\n",
      "   -2.3645875e-01  4.1550836e-01]\n",
      "  ...\n",
      "  [ 5.9382367e-01  3.0472282e-01 -5.2274424e-01 ...  4.1635299e-01\n",
      "   -1.5526828e-01 -6.7680061e-01]\n",
      "  [ 6.2266862e-01  3.0123302e-01 -4.9982113e-01 ...  2.3130883e-02\n",
      "    1.5334161e-02 -6.5259594e-01]\n",
      "  [ 1.4411916e-01  3.0606183e-01 -4.5094416e-02 ... -2.0718686e-02\n",
      "    1.8533496e-02 -1.2729594e-01]]]\n"
     ]
    }
   ],
   "source": [
    "import tensorflow as tf\n",
    "import numpy as np\n",
    "\n",
    "from tacotron import create_model, get_most_recent_checkpoint\n",
    "from hparams import hparams\n",
    "from text import text_to_sequence, sequence_to_text\n",
    "\n",
    "def _pad_input(x, length):\n",
    "    return np.pad(x, (0, length - x.shape[0]), mode='constant', constant_values=0)\n",
    "\n",
    "def _prepare_inputs(inputs):  # inputs: batch 길이 만큼의 list\n",
    "    max_len = max((len(x) for x in inputs))\n",
    "    return np.stack([_pad_input(x, max_len) for x in inputs])  # (batch_size, max_len)\n",
    "    \"\"\"\n",
    "    batch_size = 2 일 떼,\n",
    "    [[13, 26, 13, 41, 13, 21, 13, 41, 13, 21, 13, 41,  9, 41, 13, 40,79, 14, 34, 13, 33, 79, 20, 32, 13, 35, 45,  2, 34, 42, 13, 39,7, 29, 11, 25,  1],\n",
    "    [ 6, 29, 79, 14, 26, 14, 34,  5, 29, 79,  2, 30, 45,  2, 28, 14,21, 79, 13, 27,  7, 25,  9, 34, 45, 13, 40, 79,  4, 29,  2, 29,13, 26,  1,  0,  0]]    \n",
    "    \"\"\"\n",
    "    \n",
    "num_speakers = 1\n",
    "speaker_ids = [0]\n",
    "\n",
    "checkpoint_path = get_most_recent_checkpoint(\"Trained_model\")\n",
    "\n",
    "inputs = tf.placeholder(tf.int32, [None, None], 'inputs')\n",
    "input_lengths = tf.placeholder(tf.int32, [None], 'input_lengths')\n",
    "\n",
    "batch_size = tf.shape(inputs)[0]\n",
    "speaker_id = tf.placeholder_with_default(\n",
    "            tf.zeros([batch_size], dtype=tf.int32), [None], 'speaker_id')\n",
    "\n",
    "\n",
    "with tf.variable_scope('model') as scope:\n",
    "    model = create_model(hparams)\n",
    "    model.initialize(inputs, input_lengths, num_speakers, speaker_id,rnn_decoder_test_mode=True)\n",
    "    \n",
    "sess = tf.Session()\n",
    "sess.run(tf.global_variables_initializer())\n",
    "saver = tf.train.Saver()\n",
    "saver.restore(sess, checkpoint_path)\n",
    "\n",
    "#input example\n",
    "texts = \"오스트랄로피테쿠스 아파렌시스는 멸종된 사람족 종으로\"\n",
    "if type(texts) == str:\n",
    "    texts = [texts]\n",
    "    \n",
    "sequences = np.array([text_to_sequence(text) for text in texts])\n",
    "sequences = _prepare_inputs(sequences)\n",
    "\n",
    "input_lengths = [np.argmax(a==1)+1 for a in sequences]\n",
    "\n",
    "feed_dict = { model.inputs: sequences, model.input_lengths: input_lengths, }\n",
    "feed_dict[model.speaker_id] = speaker_ids\n",
    "\n",
    "encoder_out = sess.run(model.encoder_outputs,feed_dict=feed_dict)\n",
    "\n",
    "print (encoder_out)\n",
    "\n",
    "sess.close()"
   ]
  },
  {
   "cell_type": "code",
   "execution_count": 56,
   "metadata": {
    "scrolled": true
   },
   "outputs": [
    {
     "data": {
      "text/plain": [
       "[62]"
      ]
     },
     "execution_count": 56,
     "metadata": {},
     "output_type": "execute_result"
    }
   ],
   "source": [
    "input_lengths"
   ]
  },
  {
   "cell_type": "code",
   "execution_count": 81,
   "metadata": {},
   "outputs": [],
   "source": [
    "tf.reset_default_graph()"
   ]
  },
  {
   "cell_type": "code",
   "execution_count": null,
   "metadata": {},
   "outputs": [],
   "source": []
  },
  {
   "cell_type": "code",
   "execution_count": null,
   "metadata": {},
   "outputs": [],
   "source": []
  },
  {
   "cell_type": "code",
   "execution_count": null,
   "metadata": {},
   "outputs": [],
   "source": []
  },
  {
   "cell_type": "code",
   "execution_count": null,
   "metadata": {},
   "outputs": [],
   "source": []
  },
  {
   "cell_type": "code",
   "execution_count": null,
   "metadata": {},
   "outputs": [],
   "source": []
  },
  {
   "cell_type": "code",
   "execution_count": null,
   "metadata": {},
   "outputs": [],
   "source": []
  },
  {
   "cell_type": "code",
   "execution_count": null,
   "metadata": {},
   "outputs": [],
   "source": []
  },
  {
   "cell_type": "code",
   "execution_count": null,
   "metadata": {},
   "outputs": [],
   "source": []
  },
  {
   "cell_type": "code",
   "execution_count": null,
   "metadata": {},
   "outputs": [],
   "source": []
  },
  {
   "cell_type": "code",
   "execution_count": null,
   "metadata": {},
   "outputs": [],
   "source": []
  },
  {
   "cell_type": "code",
   "execution_count": null,
   "metadata": {},
   "outputs": [],
   "source": []
  }
 ],
 "metadata": {
  "kernelspec": {
   "display_name": "tensorflow2",
   "language": "python",
   "name": "tensorflow2"
  },
  "language_info": {
   "codemirror_mode": {
    "name": "ipython",
    "version": 3
   },
   "file_extension": ".py",
   "mimetype": "text/x-python",
   "name": "python",
   "nbconvert_exporter": "python",
   "pygments_lexer": "ipython3",
   "version": "3.6.10"
  }
 },
 "nbformat": 4,
 "nbformat_minor": 4
}
