{
 "cells": [
  {
   "cell_type": "code",
   "execution_count": 2,
   "metadata": {},
   "outputs": [],
   "source": [
    "import numpy as np\n",
    "from emotion_recognition import utils\n",
    "from emotion_recognition import features\n",
    "\n",
    "import essentia\n",
    "import essentia.streaming\n",
    "from essentia.standard import *"
   ]
  },
  {
   "cell_type": "code",
   "execution_count": null,
   "metadata": {},
   "outputs": [],
   "source": []
  },
  {
   "cell_type": "code",
   "execution_count": 3,
   "metadata": {},
   "outputs": [],
   "source": [
    "from sklearn.model_selection import train_test_split\n",
    "from sklearn.preprocessing import label_binarize\n",
    "\n",
    "import tensorflow as tf\n",
    "import time"
   ]
  },
  {
   "cell_type": "markdown",
   "metadata": {},
   "source": [
    "## 1. 파일 이름 읽어오기"
   ]
  },
  {
   "cell_type": "markdown",
   "metadata": {},
   "source": [
    "- training data"
   ]
  },
  {
   "cell_type": "code",
   "execution_count": 4,
   "metadata": {},
   "outputs": [],
   "source": [
    "path = \"data/\"\n",
    "\n",
    "training_text = \"training.txt\"\n",
    "\n",
    "wav_filename_list = []\n",
    "emotion_list = []\n",
    "text_list = []\n",
    "\n",
    "f = open(path+training_text,'r')\n",
    "\n",
    "while True:\n",
    "    line = f.readline()\n",
    "    \n",
    "    if not line: break\n",
    "    \n",
    "    filename, text, emotion = line.split('\\t')\n",
    "    \n",
    "    if emotion[-1] == \"\\n\":\n",
    "        emotion = emotion[:-1]\n",
    "        \n",
    "    wav_filename_list.append(filename.replace('\\\\','/'))\n",
    "    emotion_list.append(emotion)\n",
    "    text_list.append(text)\n",
    "    \n",
    "f.close()"
   ]
  },
  {
   "cell_type": "code",
   "execution_count": 5,
   "metadata": {},
   "outputs": [],
   "source": [
    "window_size = 250 # 특징 추출을 위한 윈도우 크기\n",
    "n_mfcc = 13 #MFCC 계수 크기\n",
    "frame_size = 500 # 음성구간 찾기 위한 프레임 크기\n",
    "time_step = 78 # RNN time step\n",
    "feature_size = 43 # 전체 특징 길이\n",
    "class_size = 4 #class 크기\n",
    "sr = 16000\n",
    "\n",
    "emotions = [\"Neutrality\", \"Anger\", \"Happiness\", \"Sadness\"]"
   ]
  },
  {
   "cell_type": "code",
   "execution_count": 6,
   "metadata": {},
   "outputs": [],
   "source": [
    "#Module Initialization for Essentia\n",
    "spectrum = Spectrum()\n",
    "window = Windowing(type='hann')\n",
    "pitch = PitchYin(sampleRate = sr, frameSize = window_size)\n",
    "specPeak = SpectralPeaks(minFrequency=20, maxFrequency = 8000, sampleRate = sr)\n",
    "harPeak = HarmonicPeaks()"
   ]
  },
  {
   "cell_type": "code",
   "execution_count": 7,
   "metadata": {
    "scrolled": true
   },
   "outputs": [
    {
     "name": "stdout",
     "output_type": "stream",
     "text": [
      "0\tAnger\t\tdata/wav/Anger_695.wav\n"
     ]
    },
    {
     "name": "stderr",
     "output_type": "stream",
     "text": [
      "/home/pmp/anaconda3/envs/tensorflow2/lib/python3.6/site-packages/librosa/core/spectrum.py:224: UserWarning: n_fft=2048 is too small for input signal of length=250\n",
      "  n_fft, y.shape[-1]\n",
      "/home/pmp/anaconda3/envs/tensorflow2/lib/python3.6/site-packages/librosa/core/pitch.py:153: UserWarning: Trying to estimate tuning from empty frequency set.\n",
      "  warnings.warn(\"Trying to estimate tuning from empty frequency set.\")\n"
     ]
    },
    {
     "name": "stdout",
     "output_type": "stream",
     "text": [
      "1\tAnger\t\tdata/wav/Anger_151.wav\n",
      "2\tAnger\t\tdata/wav/Anger_319.wav\n",
      "3\tNeutrality\t\tdata/wav/Neutrality_513.wav\n",
      "4\tNeutrality\t\tdata/wav/Neutrality_611.wav\n",
      "5\tHappiness\t\tdata/wav/Happiness_313.wav\n",
      "6\tNeutrality\t\tdata/wav/Neutrality_295.wav\n",
      "7\tAnger\t\tdata/wav/Anger_403.wav\n",
      "8\tAnger\t\tdata/wav/Anger_650.wav\n",
      "9\tHappiness\t\tdata/wav/Happiness_240.wav\n",
      "10\tAnger\t\tdata/wav/Anger_412.wav\n",
      "11\tHappiness\t\tdata/wav/Happiness_88.wav\n",
      "12\tHappiness\t\tdata/wav/Happiness_23.wav\n",
      "13\tAnger\t\tdata/wav/Anger_583.wav\n",
      "14\tSadness\t\tdata/wav/Sadness_315.wav\n"
     ]
    },
    {
     "ename": "KeyboardInterrupt",
     "evalue": "",
     "output_type": "error",
     "traceback": [
      "\u001b[0;31m---------------------------------------------------------------------------\u001b[0m",
      "\u001b[0;31mKeyboardInterrupt\u001b[0m                         Traceback (most recent call last)",
      "\u001b[0;32m<ipython-input-7-ba3f978fe9d1>\u001b[0m in \u001b[0;36m<module>\u001b[0;34m\u001b[0m\n\u001b[1;32m     67\u001b[0m \u001b[0;34m\u001b[0m\u001b[0m\n\u001b[1;32m     68\u001b[0m             \u001b[0;31m# Chroma\u001b[0m\u001b[0;34m\u001b[0m\u001b[0;34m\u001b[0m\u001b[0;34m\u001b[0m\u001b[0m\n\u001b[0;32m---> 69\u001b[0;31m             \u001b[0mchroma_vec\u001b[0m \u001b[0;34m=\u001b[0m \u001b[0mfeatures\u001b[0m\u001b[0;34m.\u001b[0m\u001b[0mchroma\u001b[0m\u001b[0;34m(\u001b[0m\u001b[0my_sub\u001b[0m\u001b[0;34m,\u001b[0m\u001b[0msr\u001b[0m\u001b[0;34m,\u001b[0m\u001b[0mwindow_size\u001b[0m\u001b[0;34m)\u001b[0m\u001b[0;34m\u001b[0m\u001b[0;34m\u001b[0m\u001b[0m\n\u001b[0m\u001b[1;32m     70\u001b[0m             \u001b[0;32mfor\u001b[0m \u001b[0mj\u001b[0m \u001b[0;32min\u001b[0m \u001b[0mrange\u001b[0m\u001b[0;34m(\u001b[0m\u001b[0mlen\u001b[0m\u001b[0;34m(\u001b[0m\u001b[0mchroma_vec\u001b[0m\u001b[0;34m)\u001b[0m\u001b[0;34m)\u001b[0m\u001b[0;34m:\u001b[0m\u001b[0;34m\u001b[0m\u001b[0;34m\u001b[0m\u001b[0m\n\u001b[1;32m     71\u001b[0m                 \u001b[0mFeature_Set\u001b[0m \u001b[0;34m=\u001b[0m \u001b[0mFeature_Set\u001b[0m \u001b[0;34m+\u001b[0m \u001b[0mchroma_vec\u001b[0m\u001b[0;34m[\u001b[0m\u001b[0mj\u001b[0m\u001b[0;34m]\u001b[0m\u001b[0;34m.\u001b[0m\u001b[0mtolist\u001b[0m\u001b[0;34m(\u001b[0m\u001b[0;34m)\u001b[0m\u001b[0;34m\u001b[0m\u001b[0;34m\u001b[0m\u001b[0m\n",
      "\u001b[0;32m~/Workspace/JuHee/SpeechEmotionRecognition/last/emotion_recognition/features.py\u001b[0m in \u001b[0;36mchroma\u001b[0;34m(y_sub, sr, window_size)\u001b[0m\n\u001b[1;32m    152\u001b[0m \u001b[0;34m\u001b[0m\u001b[0m\n\u001b[1;32m    153\u001b[0m \u001b[0;32mdef\u001b[0m \u001b[0mchroma\u001b[0m\u001b[0;34m(\u001b[0m\u001b[0my_sub\u001b[0m\u001b[0;34m,\u001b[0m\u001b[0msr\u001b[0m\u001b[0;34m,\u001b[0m\u001b[0mwindow_size\u001b[0m\u001b[0;34m)\u001b[0m\u001b[0;34m:\u001b[0m\u001b[0;34m\u001b[0m\u001b[0;34m\u001b[0m\u001b[0m\n\u001b[0;32m--> 154\u001b[0;31m     \u001b[0mchroma\u001b[0m \u001b[0;34m=\u001b[0m \u001b[0mlibrosa\u001b[0m\u001b[0;34m.\u001b[0m\u001b[0mfeature\u001b[0m\u001b[0;34m.\u001b[0m\u001b[0mchroma_stft\u001b[0m\u001b[0;34m(\u001b[0m\u001b[0my\u001b[0m\u001b[0;34m=\u001b[0m\u001b[0my_sub\u001b[0m\u001b[0;34m,\u001b[0m \u001b[0msr\u001b[0m\u001b[0;34m=\u001b[0m\u001b[0msr\u001b[0m\u001b[0;34m,\u001b[0m\u001b[0mn_fft\u001b[0m\u001b[0;34m=\u001b[0m\u001b[0mwindow_size\u001b[0m\u001b[0;34m,\u001b[0m\u001b[0mhop_length\u001b[0m\u001b[0;34m=\u001b[0m\u001b[0mwindow_size\u001b[0m\u001b[0;34m+\u001b[0m\u001b[0;36m1\u001b[0m\u001b[0;34m)\u001b[0m\u001b[0;34m\u001b[0m\u001b[0;34m\u001b[0m\u001b[0m\n\u001b[0m\u001b[1;32m    155\u001b[0m \u001b[0;34m\u001b[0m\u001b[0m\n\u001b[1;32m    156\u001b[0m     \u001b[0;32mreturn\u001b[0m \u001b[0mchroma\u001b[0m\u001b[0;34m\u001b[0m\u001b[0;34m\u001b[0m\u001b[0m\n",
      "\u001b[0;32m~/anaconda3/envs/tensorflow2/lib/python3.6/site-packages/librosa/feature/spectral.py\u001b[0m in \u001b[0;36mchroma_stft\u001b[0;34m(y, sr, S, norm, n_fft, hop_length, win_length, window, center, pad_mode, tuning, n_chroma, **kwargs)\u001b[0m\n\u001b[1;32m   1309\u001b[0m \u001b[0;34m\u001b[0m\u001b[0m\n\u001b[1;32m   1310\u001b[0m     \u001b[0;32mif\u001b[0m \u001b[0mtuning\u001b[0m \u001b[0;32mis\u001b[0m \u001b[0;32mNone\u001b[0m\u001b[0;34m:\u001b[0m\u001b[0;34m\u001b[0m\u001b[0;34m\u001b[0m\u001b[0m\n\u001b[0;32m-> 1311\u001b[0;31m         \u001b[0mtuning\u001b[0m \u001b[0;34m=\u001b[0m \u001b[0mestimate_tuning\u001b[0m\u001b[0;34m(\u001b[0m\u001b[0mS\u001b[0m\u001b[0;34m=\u001b[0m\u001b[0mS\u001b[0m\u001b[0;34m,\u001b[0m \u001b[0msr\u001b[0m\u001b[0;34m=\u001b[0m\u001b[0msr\u001b[0m\u001b[0;34m,\u001b[0m \u001b[0mbins_per_octave\u001b[0m\u001b[0;34m=\u001b[0m\u001b[0mn_chroma\u001b[0m\u001b[0;34m)\u001b[0m\u001b[0;34m\u001b[0m\u001b[0;34m\u001b[0m\u001b[0m\n\u001b[0m\u001b[1;32m   1312\u001b[0m \u001b[0;34m\u001b[0m\u001b[0m\n\u001b[1;32m   1313\u001b[0m     \u001b[0;31m# Get the filter bank\u001b[0m\u001b[0;34m\u001b[0m\u001b[0;34m\u001b[0m\u001b[0;34m\u001b[0m\u001b[0m\n",
      "\u001b[0;32m~/anaconda3/envs/tensorflow2/lib/python3.6/site-packages/librosa/core/pitch.py\u001b[0m in \u001b[0;36mestimate_tuning\u001b[0;34m(y, sr, S, n_fft, resolution, bins_per_octave, **kwargs)\u001b[0m\n\u001b[1;32m     89\u001b[0m \u001b[0;34m\u001b[0m\u001b[0m\n\u001b[1;32m     90\u001b[0m     \u001b[0;32mif\u001b[0m \u001b[0mpitch_mask\u001b[0m\u001b[0;34m.\u001b[0m\u001b[0many\u001b[0m\u001b[0;34m(\u001b[0m\u001b[0;34m)\u001b[0m\u001b[0;34m:\u001b[0m\u001b[0;34m\u001b[0m\u001b[0;34m\u001b[0m\u001b[0m\n\u001b[0;32m---> 91\u001b[0;31m         \u001b[0mthreshold\u001b[0m \u001b[0;34m=\u001b[0m \u001b[0mnp\u001b[0m\u001b[0;34m.\u001b[0m\u001b[0mmedian\u001b[0m\u001b[0;34m(\u001b[0m\u001b[0mmag\u001b[0m\u001b[0;34m[\u001b[0m\u001b[0mpitch_mask\u001b[0m\u001b[0;34m]\u001b[0m\u001b[0;34m)\u001b[0m\u001b[0;34m\u001b[0m\u001b[0;34m\u001b[0m\u001b[0m\n\u001b[0m\u001b[1;32m     92\u001b[0m     \u001b[0;32melse\u001b[0m\u001b[0;34m:\u001b[0m\u001b[0;34m\u001b[0m\u001b[0;34m\u001b[0m\u001b[0m\n\u001b[1;32m     93\u001b[0m         \u001b[0mthreshold\u001b[0m \u001b[0;34m=\u001b[0m \u001b[0;36m0.0\u001b[0m\u001b[0;34m\u001b[0m\u001b[0;34m\u001b[0m\u001b[0m\n",
      "\u001b[0;32m<__array_function__ internals>\u001b[0m in \u001b[0;36mmedian\u001b[0;34m(*args, **kwargs)\u001b[0m\n",
      "\u001b[0;32m~/anaconda3/envs/tensorflow2/lib/python3.6/site-packages/numpy/lib/function_base.py\u001b[0m in \u001b[0;36mmedian\u001b[0;34m(a, axis, out, overwrite_input, keepdims)\u001b[0m\n\u001b[1;32m   3493\u001b[0m     \"\"\"\n\u001b[1;32m   3494\u001b[0m     r, k = _ureduce(a, func=_median, axis=axis, out=out,\n\u001b[0;32m-> 3495\u001b[0;31m                     overwrite_input=overwrite_input)\n\u001b[0m\u001b[1;32m   3496\u001b[0m     \u001b[0;32mif\u001b[0m \u001b[0mkeepdims\u001b[0m\u001b[0;34m:\u001b[0m\u001b[0;34m\u001b[0m\u001b[0;34m\u001b[0m\u001b[0m\n\u001b[1;32m   3497\u001b[0m         \u001b[0;32mreturn\u001b[0m \u001b[0mr\u001b[0m\u001b[0;34m.\u001b[0m\u001b[0mreshape\u001b[0m\u001b[0;34m(\u001b[0m\u001b[0mk\u001b[0m\u001b[0;34m)\u001b[0m\u001b[0;34m\u001b[0m\u001b[0;34m\u001b[0m\u001b[0m\n",
      "\u001b[0;32m~/anaconda3/envs/tensorflow2/lib/python3.6/site-packages/numpy/lib/function_base.py\u001b[0m in \u001b[0;36m_ureduce\u001b[0;34m(a, func, **kwargs)\u001b[0m\n\u001b[1;32m   3401\u001b[0m         \u001b[0mkeepdim\u001b[0m \u001b[0;34m=\u001b[0m \u001b[0;34m(\u001b[0m\u001b[0;36m1\u001b[0m\u001b[0;34m,\u001b[0m\u001b[0;34m)\u001b[0m \u001b[0;34m*\u001b[0m \u001b[0ma\u001b[0m\u001b[0;34m.\u001b[0m\u001b[0mndim\u001b[0m\u001b[0;34m\u001b[0m\u001b[0;34m\u001b[0m\u001b[0m\n\u001b[1;32m   3402\u001b[0m \u001b[0;34m\u001b[0m\u001b[0m\n\u001b[0;32m-> 3403\u001b[0;31m     \u001b[0mr\u001b[0m \u001b[0;34m=\u001b[0m \u001b[0mfunc\u001b[0m\u001b[0;34m(\u001b[0m\u001b[0ma\u001b[0m\u001b[0;34m,\u001b[0m \u001b[0;34m**\u001b[0m\u001b[0mkwargs\u001b[0m\u001b[0;34m)\u001b[0m\u001b[0;34m\u001b[0m\u001b[0;34m\u001b[0m\u001b[0m\n\u001b[0m\u001b[1;32m   3404\u001b[0m     \u001b[0;32mreturn\u001b[0m \u001b[0mr\u001b[0m\u001b[0;34m,\u001b[0m \u001b[0mkeepdim\u001b[0m\u001b[0;34m\u001b[0m\u001b[0;34m\u001b[0m\u001b[0m\n\u001b[1;32m   3405\u001b[0m \u001b[0;34m\u001b[0m\u001b[0m\n",
      "\u001b[0;32m~/anaconda3/envs/tensorflow2/lib/python3.6/site-packages/numpy/lib/function_base.py\u001b[0m in \u001b[0;36m_median\u001b[0;34m(a, axis, out, overwrite_input)\u001b[0m\n\u001b[1;32m   3547\u001b[0m         \u001b[0;31m# warn and return nans like mean would\u001b[0m\u001b[0;34m\u001b[0m\u001b[0;34m\u001b[0m\u001b[0;34m\u001b[0m\u001b[0m\n\u001b[1;32m   3548\u001b[0m         \u001b[0mrout\u001b[0m \u001b[0;34m=\u001b[0m \u001b[0mmean\u001b[0m\u001b[0;34m(\u001b[0m\u001b[0mpart\u001b[0m\u001b[0;34m[\u001b[0m\u001b[0mindexer\u001b[0m\u001b[0;34m]\u001b[0m\u001b[0;34m,\u001b[0m \u001b[0maxis\u001b[0m\u001b[0;34m=\u001b[0m\u001b[0maxis\u001b[0m\u001b[0;34m,\u001b[0m \u001b[0mout\u001b[0m\u001b[0;34m=\u001b[0m\u001b[0mout\u001b[0m\u001b[0;34m)\u001b[0m\u001b[0;34m\u001b[0m\u001b[0;34m\u001b[0m\u001b[0m\n\u001b[0;32m-> 3549\u001b[0;31m         \u001b[0;32mreturn\u001b[0m \u001b[0mnp\u001b[0m\u001b[0;34m.\u001b[0m\u001b[0mlib\u001b[0m\u001b[0;34m.\u001b[0m\u001b[0mutils\u001b[0m\u001b[0;34m.\u001b[0m\u001b[0m_median_nancheck\u001b[0m\u001b[0;34m(\u001b[0m\u001b[0mpart\u001b[0m\u001b[0;34m,\u001b[0m \u001b[0mrout\u001b[0m\u001b[0;34m,\u001b[0m \u001b[0maxis\u001b[0m\u001b[0;34m,\u001b[0m \u001b[0mout\u001b[0m\u001b[0;34m)\u001b[0m\u001b[0;34m\u001b[0m\u001b[0;34m\u001b[0m\u001b[0m\n\u001b[0m\u001b[1;32m   3550\u001b[0m     \u001b[0;32melse\u001b[0m\u001b[0;34m:\u001b[0m\u001b[0;34m\u001b[0m\u001b[0;34m\u001b[0m\u001b[0m\n\u001b[1;32m   3551\u001b[0m         \u001b[0;31m# if there are no nans\u001b[0m\u001b[0;34m\u001b[0m\u001b[0;34m\u001b[0m\u001b[0;34m\u001b[0m\u001b[0m\n",
      "\u001b[0;32m~/anaconda3/envs/tensorflow2/lib/python3.6/site-packages/numpy/lib/utils.py\u001b[0m in \u001b[0;36m_median_nancheck\u001b[0;34m(data, result, axis, out)\u001b[0m\n\u001b[1;32m   1070\u001b[0m     \u001b[0;32mif\u001b[0m \u001b[0mdata\u001b[0m\u001b[0;34m.\u001b[0m\u001b[0msize\u001b[0m \u001b[0;34m==\u001b[0m \u001b[0;36m0\u001b[0m\u001b[0;34m:\u001b[0m\u001b[0;34m\u001b[0m\u001b[0;34m\u001b[0m\u001b[0m\n\u001b[1;32m   1071\u001b[0m         \u001b[0;32mreturn\u001b[0m \u001b[0mresult\u001b[0m\u001b[0;34m\u001b[0m\u001b[0;34m\u001b[0m\u001b[0m\n\u001b[0;32m-> 1072\u001b[0;31m     \u001b[0mdata\u001b[0m \u001b[0;34m=\u001b[0m \u001b[0mnp\u001b[0m\u001b[0;34m.\u001b[0m\u001b[0mmoveaxis\u001b[0m\u001b[0;34m(\u001b[0m\u001b[0mdata\u001b[0m\u001b[0;34m,\u001b[0m \u001b[0maxis\u001b[0m\u001b[0;34m,\u001b[0m \u001b[0;34m-\u001b[0m\u001b[0;36m1\u001b[0m\u001b[0;34m)\u001b[0m\u001b[0;34m\u001b[0m\u001b[0;34m\u001b[0m\u001b[0m\n\u001b[0m\u001b[1;32m   1073\u001b[0m     \u001b[0mn\u001b[0m \u001b[0;34m=\u001b[0m \u001b[0mnp\u001b[0m\u001b[0;34m.\u001b[0m\u001b[0misnan\u001b[0m\u001b[0;34m(\u001b[0m\u001b[0mdata\u001b[0m\u001b[0;34m[\u001b[0m\u001b[0;34m...\u001b[0m\u001b[0;34m,\u001b[0m \u001b[0;34m-\u001b[0m\u001b[0;36m1\u001b[0m\u001b[0;34m]\u001b[0m\u001b[0;34m)\u001b[0m\u001b[0;34m\u001b[0m\u001b[0;34m\u001b[0m\u001b[0m\n\u001b[1;32m   1074\u001b[0m     \u001b[0;31m# masked NaN values are ok\u001b[0m\u001b[0;34m\u001b[0m\u001b[0;34m\u001b[0m\u001b[0;34m\u001b[0m\u001b[0m\n",
      "\u001b[0;32m<__array_function__ internals>\u001b[0m in \u001b[0;36mmoveaxis\u001b[0;34m(*args, **kwargs)\u001b[0m\n",
      "\u001b[0;31mKeyboardInterrupt\u001b[0m: "
     ]
    }
   ],
   "source": [
    "Training_vector = []\n",
    "Training_label = []\n",
    "\n",
    "for ix in range(len(wav_filename_list)):\n",
    "    # 파일 읽어오기\n",
    "    print (str(ix)+ \"\\t\" + emotion_list[ix] + \"\\t\\t\" + path + wav_filename_list[ix])\n",
    "    \n",
    "    y,sr = utils.loadwav(path + wav_filename_list[ix])\n",
    "    \n",
    "    #파일 전체 길이\n",
    "    length = len(y)\n",
    "    \n",
    "    idx = 0\n",
    "    while(idx != length):\n",
    "        #하나의 구간에 대하여 Feature_list를 만들기  \n",
    "        Feature_list = []\n",
    "        feature_set_cnt = 0\n",
    "        \n",
    "        #voice 구간 구하기\n",
    "        IAV_th = utils.get_IAV_threshold(y,length,frame_size)\n",
    "        th = IAV_th/frame_size*2\n",
    "        \n",
    "        start_point, end_point = utils.search_voicearea(y,frame_size,length,idx,th,IAV_th)\n",
    "            \n",
    "        if(start_point == -1):\n",
    "            break\n",
    "            \n",
    "        idx = end_point\n",
    "        \n",
    "        segment_length = end_point-start_point+1\n",
    "        # 음성 구간이 time_step 보다 짧으면 해당 음성 구간에서 특징 추출 x\n",
    "        if(segment_length-window_size < (time_step*window_size)):\n",
    "            continue\n",
    "            \n",
    "        \n",
    "        # 특징 추출    \n",
    "        for i in range(start_point,(end_point-window_size),window_size): #윈도우 사이즈 만큼 잘라서\n",
    "            y_sub = y[i:i+window_size]\n",
    "            Feature_Set = []\n",
    "            \n",
    "            #MFCC\n",
    "            mfcc_c = features.MFCC(y_sub,sr,window_size,n_mfcc)\n",
    "            for j in range(len(mfcc_c)):\n",
    "                Feature_Set = Feature_Set + mfcc_c[j].tolist() # array list로 바꿔서 뒤에 리스트 안에 있는 요소 덧붙이기\n",
    "            \n",
    "            #Spectral feature \n",
    "            # 1. centroid(happy) : 1\n",
    "            cent = features.spectral_centroid(y_sub,sr,window_size)\n",
    "            Feature_Set.append(cent)\n",
    "                \n",
    "            # 2. bandwidth : 1\n",
    "            bandwidth = features.spectral_bandwidth(y_sub,sr,window_size)\n",
    "            Feature_Set.append(bandwidth)\n",
    "\n",
    "            # 3. contrast : 7\n",
    "            contrast = features.spectral_contrast(y_sub,sr,window_size)    \n",
    "            for j in range(len(contrast)):\n",
    "                Feature_Set = Feature_Set + contrast[j].tolist()\n",
    "\n",
    "            # 4. flatness : 1\n",
    "            flatness = features.spectral_flatness(y_sub,sr,window_size)\n",
    "            Feature_Set.append(flatness)\n",
    "\n",
    "            # 5. rolloff : 1\n",
    "            rolloff = features.spectral_rolloff(y_sub,sr,window_size)\n",
    "            Feature_Set.append(rolloff)\n",
    "            \n",
    "            # Chroma : 12\n",
    "            chroma_vec = features.chroma(y_sub,sr,window_size)    \n",
    "            for j in range(len(chroma_vec)):\n",
    "                Feature_Set = Feature_Set + chroma_vec[j].tolist()\n",
    "            \n",
    "            \n",
    "            # harmonic feature\n",
    "            #Pitch function returns pitch data(pitch_out) and pitch_confidence\n",
    "            #If pitch_confidence equal to zero, it means that pitch data is not found in current frame\n",
    "            pitch_out, pitch_confidence = pitch(y_sub)\n",
    "            if pitch_confidence==0:\n",
    "                pitch_out = 0\n",
    "\n",
    "            #Spectrum of current frame is used to extract spectral peak feature\n",
    "            #Spectral frequency and spectral magnitude will be returned\n",
    "            specfrequency, specmagnitude = specPeak(spectrum(y_sub))\n",
    "\n",
    "            #Spectral frequency, spectral magnitude, and pitch data are used to extract harmonic peak feature\n",
    "            #Harmonic frequency and harmonic magnitude will be returned\n",
    "            harfrequency, harmagnitude = harPeak(specfrequency, specmagnitude, pitch_out)\n",
    "\n",
    "            # 1, inharmonicity(fear) : 1\n",
    "            inharmonicity  = features.inharmonicity(harfrequency,harmagnitude)\n",
    "            Feature_Set.append(inharmonicity)\n",
    "            \n",
    "            # 2.  tristimulus : 3\n",
    "            tristimulus1, tristimulus2, tristimulus3 = features.tristimulus(harfrequency,harmagnitude)\n",
    "            Feature_Set.append(tristimulus1)\n",
    "            Feature_Set.append(tristimulus2)\n",
    "            Feature_Set.append(tristimulus3)\n",
    "            \n",
    "            # 3. harmonic_energy(anger) : 1\n",
    "            harEnergy = features.harEnergy(harfrequency,harmagnitude)\n",
    "            Feature_Set.append(harEnergy)\n",
    "\n",
    "            # 4. noiseEnergy(sadness) : 1\n",
    "            noiseEnergy = features.noiseEnergy(spectrum(y_sub),harEnergy)\n",
    "            Feature_Set.append(noiseEnergy)\n",
    "            \n",
    "            # 5. noiseness(neutral) : 1\n",
    "            noiseness = features.noiseness(spectrum(y_sub),harEnergy)\n",
    "            Feature_Set.append(noiseness)\n",
    "            \n",
    "            Feature_list.append(Feature_Set)\n",
    "            feature_set_cnt = feature_set_cnt + 1\n",
    "            \n",
    "        ## Training_vector 생성 (구간갯수, 구간에서의 feature set 갯수, feature 갯수)\n",
    "        if not Feature_list:\n",
    "            print(\"empty\")\n",
    "        else:    \n",
    "            Training_vector.append(Feature_list)\n",
    "            Training_label.append(emotions.index(emotion_list[ix]))"
   ]
  },
  {
   "cell_type": "code",
   "execution_count": 9,
   "metadata": {},
   "outputs": [
    {
     "data": {
      "text/plain": [
       "12"
      ]
     },
     "execution_count": 9,
     "metadata": {},
     "output_type": "execute_result"
    }
   ],
   "source": [
    "len(chroma_vec)"
   ]
  },
  {
   "cell_type": "markdown",
   "metadata": {},
   "source": [
    "- test data"
   ]
  },
  {
   "cell_type": "code",
   "execution_count": 42,
   "metadata": {},
   "outputs": [],
   "source": [
    "path = \"data/\"\n",
    "\n",
    "test_text = \"text.txt\"\n",
    "\n",
    "wav_filename_list = []\n",
    "emotion_list = []\n",
    "text_list = []\n",
    "\n",
    "f = open(path+test_text,'r')\n",
    "\n",
    "while True:\n",
    "    line = f.readline()\n",
    "    \n",
    "    if not line: break\n",
    "    \n",
    "    filename, text, emotion = line.split('\\t')\n",
    "    \n",
    "    if emotion[-1] == \"\\n\":\n",
    "        emotion = emotion[:-1]\n",
    "        \n",
    "    wav_filename_list.append(filename.replace('\\\\','/'))\n",
    "    emotion_list.append(emotion)\n",
    "    text_list.append(text)\n",
    "    \n",
    "f.close()"
   ]
  },
  {
   "cell_type": "code",
   "execution_count": 43,
   "metadata": {},
   "outputs": [
    {
     "name": "stdout",
     "output_type": "stream",
     "text": [
      "['wav/Anger_819.wav', 'wav/Neutrality_796.wav', 'wav/Neutrality_1615.wav', 'wav/Neutrality_1037.wav']\n"
     ]
    }
   ],
   "source": [
    "print(wav_filename_list)"
   ]
  },
  {
   "cell_type": "code",
   "execution_count": 44,
   "metadata": {
    "scrolled": true
   },
   "outputs": [
    {
     "name": "stdout",
     "output_type": "stream",
     "text": [
      "0\tAnger\t\tdata/wav/Anger_819.wav\n",
      "1\tNeutrality\t\tdata/wav/Neutrality_796.wav\n",
      "2\tNeutrality\t\tdata/wav/Neutrality_1615.wav\n",
      "3\tNeutrality\t\tdata/wav/Neutrality_1037.wav\n"
     ]
    }
   ],
   "source": [
    "Test_vector = []\n",
    "Test_label = []\n",
    "\n",
    "for ix in range(len(wav_filename_list)):\n",
    "    # 파일 읽어오기\n",
    "    print (str(ix)+ \"\\t\" + emotion_list[ix] + \"\\t\\t\" + path + wav_filename_list[ix])\n",
    "    \n",
    "    y,sr = utils.loadwav(path + wav_filename_list[ix])\n",
    "    \n",
    "    #파일 전체 길이\n",
    "    length = len(y)\n",
    "    \n",
    "    idx = 0\n",
    "    while(idx != length):\n",
    "        #하나의 구간에 대하여 Feature_list를 만들기  \n",
    "        Feature_list = []\n",
    "        feature_set_cnt = 0\n",
    "        \n",
    "        #voice 구간 구하기\n",
    "        IAV_th = utils.get_IAV_threshold(y,length,frame_size)\n",
    "        th = IAV_th/frame_size*2\n",
    "        \n",
    "        start_point, end_point = utils.search_voicearea(y,frame_size,length,idx,th,IAV_th)\n",
    "            \n",
    "        if(start_point == -1):\n",
    "            break\n",
    "            \n",
    "        idx = end_point\n",
    "        \n",
    "        segment_length = end_point-start_point+1\n",
    "        # 음성 구간이 time_step 보다 짧으면 해당 음성 구간에서 특징 추출 x\n",
    "        if(segment_length-window_size < (time_step*window_size)):\n",
    "            print(\"too short\")\n",
    "            continue\n",
    "            \n",
    "        \n",
    "        # 특징 추출    \n",
    "        for i in range(start_point,(end_point-window_size),window_size):\n",
    "            y_sub = y[i:i+window_size]\n",
    "            Feature_Set = []\n",
    "            \n",
    "            #MFCC\n",
    "            mfcc_c = features.MFCC(y_sub,sr,window_size,n_mfcc)\n",
    "            for j in range(len(mfcc_c)):\n",
    "                Feature_Set = Feature_Set + mfcc_c[j].tolist()\n",
    "            \n",
    "            #Spectral feature\n",
    "            # 1. centroid\n",
    "            cent = features.spectral_centroid(y_sub,sr,window_size)\n",
    "            Feature_Set.append(cent)\n",
    "                \n",
    "            # 2. bandwidth\n",
    "            bandwidth = features.spectral_bandwidth(y_sub,sr,window_size)\n",
    "            Feature_Set.append(bandwidth)\n",
    "\n",
    "            # 3. contrast\n",
    "            contrast = features.spectral_contrast(y_sub,sr,window_size)    \n",
    "            for j in range(len(contrast)):\n",
    "                Feature_Set = Feature_Set + contrast[j].tolist()\n",
    "\n",
    "            # 4. flatness\n",
    "            flatness = features.spectral_flatness(y_sub,sr,window_size)\n",
    "            Feature_Set.append(flatness)\n",
    "\n",
    "            # 5. rolloff\n",
    "            rolloff = features.spectral_rolloff(y_sub,sr,window_size)\n",
    "            Feature_Set.append(rolloff)\n",
    "            \n",
    "            # Chroma\n",
    "            chroma_vec = features.chroma(y_sub,sr,window_size)    \n",
    "            for j in range(len(chroma_vec)):\n",
    "                Feature_Set = Feature_Set + chroma_vec[j].tolist()\n",
    "            \n",
    "            \n",
    "            # harmonic feature\n",
    "            #Pitch function returns pitch data(pitch_out) and pitch_confidence\n",
    "            #If pitch_confidence equal to zero, it means that pitch data is not found in current frame\n",
    "            pitch_out, pitch_confidence = pitch(y_sub)\n",
    "            if pitch_confidence==0:\n",
    "                pitch_out = 0\n",
    "\n",
    "            #Spectrum of current frame is used to extract spectral peak feature\n",
    "            #Spectral frequency and spectral magnitude will be returned\n",
    "            specfrequency, specmagnitude = specPeak(spectrum(y_sub))\n",
    "\n",
    "            #Spectral frequency, spectral magnitude, and pitch data are used to extract harmonic peak feature\n",
    "            #Harmonic frequency and harmonic magnitude will be returned\n",
    "            harfrequency, harmagnitude = harPeak(specfrequency, specmagnitude, pitch_out)\n",
    "\n",
    "            # 1. inharmonicity\n",
    "            inharmonicity  = features.inharmonicity(harfrequency,harmagnitude)\n",
    "            Feature_Set.append(inharmonicity)\n",
    "            \n",
    "            # 2.  tristimulus\n",
    "            tristimulus1, tristimulus2, tristimulus3 = features.tristimulus(harfrequency,harmagnitude)\n",
    "            Feature_Set.append(tristimulus1)\n",
    "            Feature_Set.append(tristimulus2)\n",
    "            Feature_Set.append(tristimulus3)\n",
    "            \n",
    "            # 3. harmonic_energy\n",
    "            harEnergy = features.harEnergy(harfrequency,harmagnitude)\n",
    "            Feature_Set.append(harEnergy)\n",
    "\n",
    "            # 4. noiseEnergy\n",
    "            noiseEnergy = features.noiseEnergy(spectrum(y_sub),harEnergy)\n",
    "            Feature_Set.append(noiseEnergy)\n",
    "            \n",
    "            # 5. noiseness\n",
    "            noiseness = features.noiseness(spectrum(y_sub),harEnergy)\n",
    "            Feature_Set.append(noiseness)\n",
    "            \n",
    "            Feature_list.append(Feature_Set)\n",
    "            feature_set_cnt = feature_set_cnt + 1\n",
    "            \n",
    "        ## Test_vector 생성 (구간갯수, 구간에서의 feature set 갯수, feature 갯수)\n",
    "        if not Feature_list:\n",
    "            print(\"empty\")\n",
    "        else:    \n",
    "            Test_vector.append(Feature_list)\n",
    "            Test_label.append(emotions.index(emotion_list[ix]))"
   ]
  },
  {
   "cell_type": "code",
   "execution_count": 45,
   "metadata": {
    "scrolled": true
   },
   "outputs": [
    {
     "name": "stdout",
     "output_type": "stream",
     "text": [
      "4\n"
     ]
    }
   ],
   "source": [
    "print(len(Test_vector))"
   ]
  },
  {
   "cell_type": "code",
   "execution_count": 46,
   "metadata": {},
   "outputs": [
    {
     "name": "stdout",
     "output_type": "stream",
     "text": [
      "(215, 43)\n",
      "(85, 43)\n",
      "(98, 43)\n"
     ]
    }
   ],
   "source": [
    "print(np.shape(Test_vector[0]))\n",
    "print(np.shape(Test_vector[1]))\n",
    "print(np.shape(Test_vector[2]))"
   ]
  },
  {
   "cell_type": "code",
   "execution_count": 13,
   "metadata": {},
   "outputs": [
    {
     "data": {
      "text/plain": [
       "(204, 43)"
      ]
     },
     "execution_count": 13,
     "metadata": {},
     "output_type": "execute_result"
    }
   ],
   "source": [
    "np.shape(Training_vector[0])"
   ]
  },
  {
   "cell_type": "code",
   "execution_count": 15,
   "metadata": {},
   "outputs": [
    {
     "data": {
      "text/plain": [
       "(114, 43)"
      ]
     },
     "execution_count": 15,
     "metadata": {},
     "output_type": "execute_result"
    }
   ],
   "source": [
    "#np.shape(Training_vector[1])\n",
    "np.shape(Training_vector[2])"
   ]
  },
  {
   "cell_type": "markdown",
   "metadata": {},
   "source": [
    "## 2. 데이터 정리"
   ]
  },
  {
   "cell_type": "markdown",
   "metadata": {},
   "source": [
    "- Training vector"
   ]
  },
  {
   "cell_type": "code",
   "execution_count": 12,
   "metadata": {},
   "outputs": [
    {
     "name": "stdout",
     "output_type": "stream",
     "text": [
      "(3901, 78, 43) (3901,)\n"
     ]
    }
   ],
   "source": [
    "tx = []\n",
    "ty = []\n",
    "\n",
    "for i in range(len(Training_vector)):\n",
    "    for j in range(0,len(Training_vector[i])-time_step+1,30):\n",
    "        temp = Training_vector[i][j:j+time_step]\n",
    "        tx.append(temp)\n",
    "        ty.append(Training_label[i])\n",
    "\n",
    "print (np.shape(tx),np.shape(ty))"
   ]
  },
  {
   "cell_type": "code",
   "execution_count": 13,
   "metadata": {},
   "outputs": [],
   "source": [
    "X=np.array(tx)\n",
    "y=np.array(ty)\n",
    "y = np.reshape(y, (y.shape[0], 1))"
   ]
  },
  {
   "cell_type": "code",
   "execution_count": 14,
   "metadata": {},
   "outputs": [],
   "source": [
    "X_train = np.array(tx)\n",
    "Y_train = np.array(ty)\n",
    "\n",
    "random_index = np.arange(np.shape(X_train)[0])\n",
    "np.random.shuffle(random_index)\n",
    "\n",
    "X_train = X_train[random_index]\n",
    "Y_train = Y_train[random_index]"
   ]
  },
  {
   "cell_type": "code",
   "execution_count": 15,
   "metadata": {},
   "outputs": [
    {
     "name": "stdout",
     "output_type": "stream",
     "text": [
      "(3901, 78, 43)\n",
      "(3901,)\n"
     ]
    }
   ],
   "source": [
    "print (np.shape(X_train))\n",
    "print (np.shape(Y_train))"
   ]
  },
  {
   "cell_type": "code",
   "execution_count": 16,
   "metadata": {},
   "outputs": [],
   "source": [
    "X_train = np.array(X_train)\n",
    "Y_train = label_binarize(Y_train, classes = list(range(class_size)))\n",
    "Y_train = np.array(Y_train)"
   ]
  },
  {
   "cell_type": "markdown",
   "metadata": {},
   "source": [
    "- Test vector"
   ]
  },
  {
   "cell_type": "code",
   "execution_count": 17,
   "metadata": {},
   "outputs": [
    {
     "name": "stdout",
     "output_type": "stream",
     "text": [
      "(2433, 78, 43) (2433,)\n"
     ]
    }
   ],
   "source": [
    "tx = []\n",
    "ty = []\n",
    "\n",
    "for i in range(len(Test_vector)):\n",
    "    for j in range(0,len(Test_vector[i])-time_step+1,30): # 30씩 겹치도록 \n",
    "        temp = Test_vector[i][j:j+time_step]\n",
    "        tx.append(temp)\n",
    "        ty.append(Test_label[i])\n",
    "\n",
    "print (np.shape(tx),np.shape(ty))"
   ]
  },
  {
   "cell_type": "code",
   "execution_count": 18,
   "metadata": {},
   "outputs": [],
   "source": [
    "X=np.array(tx)\n",
    "y=np.array(ty)\n",
    "y = np.reshape(y, (y.shape[0], 1))"
   ]
  },
  {
   "cell_type": "code",
   "execution_count": 19,
   "metadata": {},
   "outputs": [],
   "source": [
    "X_test = np.array(tx)\n",
    "Y_test = np.array(ty)"
   ]
  },
  {
   "cell_type": "code",
   "execution_count": 20,
   "metadata": {},
   "outputs": [
    {
     "name": "stdout",
     "output_type": "stream",
     "text": [
      "(2433, 78, 43)\n",
      "(2433,)\n"
     ]
    }
   ],
   "source": [
    "print (np.shape(X_test))\n",
    "print (np.shape(Y_test))"
   ]
  },
  {
   "cell_type": "code",
   "execution_count": 21,
   "metadata": {},
   "outputs": [],
   "source": [
    "X_test = np.array(X_test)\n",
    "Y_test =  label_binarize(Y_test, classes = list(range(class_size)))\n",
    "Y_test = np.array(Y_test)"
   ]
  },
  {
   "cell_type": "markdown",
   "metadata": {},
   "source": [
    "- Z normalization"
   ]
  },
  {
   "cell_type": "code",
   "execution_count": 22,
   "metadata": {},
   "outputs": [],
   "source": [
    "x_for_scaling = []\n",
    "avg = []\n",
    "std = []\n",
    "\n",
    "# training feature를 43개의 각 feature 별로 \n",
    "for i in range(feature_size):\n",
    "    temp =[]\n",
    "    x_for_scaling.append(temp)\n",
    "    \n",
    "for i in range(len(X_train)):\n",
    "    for j in range(len(X_train[i])):\n",
    "        for k in range(len(X_train[i][j])):\n",
    "            x_for_scaling[k].append(X_train[i][j][k])\n",
    "\n",
    "#각 feature의 평균과 표준편차를 구함\n",
    "for i in range(len(x_for_scaling)):\n",
    "    avg.append(np.mean(x_for_scaling[i]))\n",
    "    std.append(np.std(x_for_scaling[i]))\n",
    "    \n",
    "# training 벡터 nomarlization\n",
    "for i in range(len(X_train)):\n",
    "    for j in range(len(X_train[i])):\n",
    "        for k in range(len(X_train[i][j])):\n",
    "            X_train[i][j][k] = (X_train[i][j][k] - avg[k])/std[k] \n",
    "            \n",
    "#test 벡터 nomarlization\n",
    "for i in range(len(X_test)):\n",
    "    for j in range(len(X_test[i])):\n",
    "        for k in range(len(X_test[i][j])):\n",
    "            X_test[i][j][k] = (X_test[i][j][k] - avg[k])/std[k] "
   ]
  },
  {
   "cell_type": "code",
   "execution_count": 23,
   "metadata": {},
   "outputs": [
    {
     "name": "stdout",
     "output_type": "stream",
     "text": [
      "[-1547.828344299747, 164.46551110807079, 85.18688135405077, 45.43834209509118, 15.881591280754723, 18.628239017359125, -2.4040261601779704, 4.321289439492613, -1.7937067352293998, -3.193358810835332, -7.529066887670656, -16.984289046557986, -8.741670870624096, 1838.5094395570368, 1988.3619675446114, 4.928205352522378, 7.659041372888939, 11.073215926075795, 15.370925883963068, 19.93438905748131, 24.475064904622478, 17.753413799274092, 0.02037535811613401, 2426.6810745436737, 0.6772143002492703, 0.6372629913833573, 0.6098420968155306, 0.5984496512694096, 0.603969240791121, 0.6094043538322268, 0.6277062512862338, 0.6553106766640437, 0.6539609169945031, 0.6605020201414982, 0.6732662760167458, 0.6888473029956301, 0.046774348483142915, 0.5379861083738202, 0.25918900825482166, 0.19221287726834324, 85459224124.98347, 29651010733.60391, 0.3765028065712457]\n"
     ]
    }
   ],
   "source": [
    "print (avg)"
   ]
  },
  {
   "cell_type": "code",
   "execution_count": 24,
   "metadata": {},
   "outputs": [
    {
     "name": "stdout",
     "output_type": "stream",
     "text": [
      "[168.1483039274775, 108.58528604222126, 78.32093605063436, 72.15455310748264, 56.56792398277041, 47.799993891065995, 40.72160755427375, 36.10325414377614, 32.07338601832062, 28.238300235540436, 25.80581362955083, 25.994767351542173, 24.166530780637952, 1482.7804693493197, 672.8898293539447, 4.581305948719422, 4.995788189306767, 5.520749161447816, 6.190193152525389, 6.310636112490528, 6.4282477990178775, 6.893697264686665, 0.046461875574186816, 1945.5705387666642, 0.2871937679012355, 0.2549316494768003, 0.23778517242977096, 0.22788436187910238, 0.23065916798023853, 0.24286622024532595, 0.2741259502679129, 0.29397020731831447, 0.2770207375103381, 0.2649778146972901, 0.2683126162510197, 0.2845018975748724, 0.07260678829528673, 0.3030274608140964, 0.21041915954588017, 0.17333707238856366, 124773466606.82458, 44475273698.17101, 0.2609389911207921]\n"
     ]
    }
   ],
   "source": [
    "print (std)"
   ]
  },
  {
   "cell_type": "code",
   "execution_count": 26,
   "metadata": {},
   "outputs": [],
   "source": [
    "batch_size = 50\n",
    "epochs = 100"
   ]
  },
  {
   "cell_type": "code",
   "execution_count": 50,
   "metadata": {},
   "outputs": [],
   "source": [
    "import tensorflow as tf"
   ]
  },
  {
   "cell_type": "code",
   "execution_count": 52,
   "metadata": {
    "scrolled": true
   },
   "outputs": [
    {
     "name": "stdout",
     "output_type": "stream",
     "text": [
      "Model: \"sequential\"\n",
      "_________________________________________________________________\n",
      "Layer (type)                 Output Shape              Param #   \n",
      "=================================================================\n",
      "lstm (LSTM)                  (None, 78, 64)            27648     \n",
      "_________________________________________________________________\n",
      "lstm_1 (LSTM)                (None, 32)                12416     \n",
      "_________________________________________________________________\n",
      "dense (Dense)                (None, 128)               4224      \n",
      "_________________________________________________________________\n",
      "dense_1 (Dense)              (None, 4)                 516       \n",
      "=================================================================\n",
      "Total params: 44,804\n",
      "Trainable params: 44,804\n",
      "Non-trainable params: 0\n",
      "_________________________________________________________________\n"
     ]
    }
   ],
   "source": [
    "tf.keras.backend.clear_session()\n",
    "model = tf.keras.models.Sequential()\n",
    "#model.add(layers.LSTM(32, dropout=0.1, recurrent_dropout = 0.5, input_shape = (time_step, feature_size)))\n",
    "model.add(tf.keras.layers.LSTM(64, dropout=0.5, recurrent_dropout = 0.5, return_sequences = True, input_shape = (time_step, feature_size)))\n",
    "model.add(tf.keras.layers.LSTM(32,dropout=0.5, recurrent_dropout=0.5))\n",
    "model.add(tf.keras.layers.Dense(128, activation='softmax'))\n",
    "model.add(tf.keras.layers.Dense(class_size, kernel_regularizer= tf.keras.regularizers.l2(0.001), activation='softmax'))\n",
    "\n",
    "model.summary()\n"
   ]
  },
  {
   "cell_type": "code",
   "execution_count": 53,
   "metadata": {},
   "outputs": [
    {
     "ename": "ImportError",
     "evalue": "Keras requires TensorFlow 2.2 or higher. Install TensorFlow via `pip install tensorflow`",
     "output_type": "error",
     "traceback": [
      "\u001b[0;31m---------------------------------------------------------------------------\u001b[0m",
      "\u001b[0;31mModuleNotFoundError\u001b[0m                       Traceback (most recent call last)",
      "\u001b[0;32m~/anaconda3/envs/tensorflow2/lib/python3.6/site-packages/keras/__init__.py\u001b[0m in \u001b[0;36m<module>\u001b[0;34m\u001b[0m\n\u001b[1;32m      2\u001b[0m \u001b[0;32mtry\u001b[0m\u001b[0;34m:\u001b[0m\u001b[0;34m\u001b[0m\u001b[0;34m\u001b[0m\u001b[0m\n\u001b[0;32m----> 3\u001b[0;31m     \u001b[0;32mfrom\u001b[0m \u001b[0mtensorflow\u001b[0m\u001b[0;34m.\u001b[0m\u001b[0mkeras\u001b[0m\u001b[0;34m.\u001b[0m\u001b[0mlayers\u001b[0m\u001b[0;34m.\u001b[0m\u001b[0mexperimental\u001b[0m\u001b[0;34m.\u001b[0m\u001b[0mpreprocessing\u001b[0m \u001b[0;32mimport\u001b[0m \u001b[0mRandomRotation\u001b[0m\u001b[0;34m\u001b[0m\u001b[0;34m\u001b[0m\u001b[0m\n\u001b[0m\u001b[1;32m      4\u001b[0m \u001b[0;32mexcept\u001b[0m \u001b[0mImportError\u001b[0m\u001b[0;34m:\u001b[0m\u001b[0;34m\u001b[0m\u001b[0;34m\u001b[0m\u001b[0m\n",
      "\u001b[0;31mModuleNotFoundError\u001b[0m: No module named 'tensorflow.keras.layers.experimental.preprocessing'",
      "\nDuring handling of the above exception, another exception occurred:\n",
      "\u001b[0;31mImportError\u001b[0m                               Traceback (most recent call last)",
      "\u001b[0;32m<ipython-input-53-2ccd13705ee5>\u001b[0m in \u001b[0;36m<module>\u001b[0;34m\u001b[0m\n\u001b[1;32m      1\u001b[0m \u001b[0;32mfrom\u001b[0m \u001b[0mIPython\u001b[0m\u001b[0;34m.\u001b[0m\u001b[0mdisplay\u001b[0m \u001b[0;32mimport\u001b[0m \u001b[0mSVG\u001b[0m\u001b[0;34m\u001b[0m\u001b[0;34m\u001b[0m\u001b[0m\n\u001b[0;32m----> 2\u001b[0;31m \u001b[0;32mfrom\u001b[0m \u001b[0mkeras\u001b[0m\u001b[0;34m.\u001b[0m\u001b[0mutils\u001b[0m\u001b[0;34m.\u001b[0m\u001b[0mvis_utils\u001b[0m \u001b[0;32mimport\u001b[0m \u001b[0mmodel_to_dot\u001b[0m\u001b[0;34m\u001b[0m\u001b[0;34m\u001b[0m\u001b[0m\n\u001b[0m\u001b[1;32m      3\u001b[0m \u001b[0;34m\u001b[0m\u001b[0m\n\u001b[1;32m      4\u001b[0m \u001b[0mget_ipython\u001b[0m\u001b[0;34m(\u001b[0m\u001b[0;34m)\u001b[0m\u001b[0;34m.\u001b[0m\u001b[0mrun_line_magic\u001b[0m\u001b[0;34m(\u001b[0m\u001b[0;34m'matplotlib'\u001b[0m\u001b[0;34m,\u001b[0m \u001b[0;34m'inline'\u001b[0m\u001b[0;34m)\u001b[0m\u001b[0;34m\u001b[0m\u001b[0;34m\u001b[0m\u001b[0m\n\u001b[1;32m      5\u001b[0m \u001b[0;34m\u001b[0m\u001b[0m\n",
      "\u001b[0;32m~/anaconda3/envs/tensorflow2/lib/python3.6/site-packages/keras/__init__.py\u001b[0m in \u001b[0;36m<module>\u001b[0;34m\u001b[0m\n\u001b[1;32m      4\u001b[0m \u001b[0;32mexcept\u001b[0m \u001b[0mImportError\u001b[0m\u001b[0;34m:\u001b[0m\u001b[0;34m\u001b[0m\u001b[0;34m\u001b[0m\u001b[0m\n\u001b[1;32m      5\u001b[0m     raise ImportError(\n\u001b[0;32m----> 6\u001b[0;31m         \u001b[0;34m'Keras requires TensorFlow 2.2 or higher. '\u001b[0m\u001b[0;34m\u001b[0m\u001b[0;34m\u001b[0m\u001b[0m\n\u001b[0m\u001b[1;32m      7\u001b[0m         'Install TensorFlow via `pip install tensorflow`')\n\u001b[1;32m      8\u001b[0m \u001b[0;34m\u001b[0m\u001b[0m\n",
      "\u001b[0;31mImportError\u001b[0m: Keras requires TensorFlow 2.2 or higher. Install TensorFlow via `pip install tensorflow`"
     ]
    }
   ],
   "source": [
    "from IPython.display import SVG\n",
    "from keras.utils.vis_utils import model_to_dot\n",
    "\n",
    "%matplotlib inline\n",
    "\n",
    "SVG(model_to_dot(model, show_shapes=True).create(prog='dot', format='svg'))"
   ]
  },
  {
   "cell_type": "code",
   "execution_count": null,
   "metadata": {},
   "outputs": [],
   "source": [
    "model.compile(optimizer='rmsprop', loss='categorical_crossentropy', metrics=['acc'])\n",
    "history = model.fit(X_train,Y_train, epochs=epochs, batch_size=batch_size, validation_data=(X_test,Y_test))"
   ]
  },
  {
   "cell_type": "code",
   "execution_count": 29,
   "metadata": {
    "scrolled": true
   },
   "outputs": [
    {
     "data": {
      "image/png": "[encoded data removed]",
      "text/plain": [
       "<Figure size 432x288 with 1 Axes>"
      ]
     },
     "metadata": {
      "needs_background": "light"
     },
     "output_type": "display_data"
    },
    {
     "data": {
      "image/png": "[encoded data removed]",
      "text/plain": [
       "<Figure size 432x288 with 1 Axes>"
      ]
     },
     "metadata": {
      "needs_background": "light"
     },
     "output_type": "display_data"
    }
   ],
   "source": [
    "import matplotlib.pyplot as plt\n",
    "\n",
    "acc = history.history[\"acc\"]\n",
    "val_acc = history.history['val_acc']\n",
    "loss = history.history['loss']\n",
    "val_loss = history.history['val_loss']\n",
    "\n",
    "epochs= range(1,len(acc)+1)\n",
    "\n",
    "plt.plot(epochs, acc, 'bo', label = 'Training acc')\n",
    "plt.plot(epochs, val_acc, 'b', label = 'Validation acc')\n",
    "plt.title('Training and validation accuracy')\n",
    "plt.legend()\n",
    "\n",
    "plt.figure()\n",
    "\n",
    "plt.plot(epochs, loss, 'bo', label = 'Training loss')\n",
    "plt.plot(epochs, val_loss,'b',label = 'Validation loss')\n",
    "plt.title('Training an validation loss')\n",
    "plt.legend()\n",
    "\n",
    "plt.show()"
   ]
  },
  {
   "cell_type": "code",
   "execution_count": 31,
   "metadata": {
    "scrolled": true
   },
   "outputs": [
    {
     "name": "stdout",
     "output_type": "stream",
     "text": [
      "2433/2433 [==============================] - 2s 1ms/sample - loss: 0.2644 - acc: 0.9486\n"
     ]
    }
   ],
   "source": [
    "test_loss,test_acc = model.evaluate(X_test,Y_test)"
   ]
  },
  {
   "cell_type": "code",
   "execution_count": 32,
   "metadata": {
    "scrolled": false
   },
   "outputs": [
    {
     "name": "stdout",
     "output_type": "stream",
     "text": [
      "0.9486231\n"
     ]
    }
   ],
   "source": [
    "print (test_acc)"
   ]
  },
  {
   "cell_type": "code",
   "execution_count": 54,
   "metadata": {},
   "outputs": [],
   "source": [
    "model.save(\"LSTM_dropout_class3_timestep78_feature43.h5\")"
   ]
  }
 ],
 "metadata": {
  "kernelspec": {
   "display_name": "tensorflow2",
   "language": "python",
   "name": "tensorflow2"
  },
  "language_info": {
   "codemirror_mode": {
    "name": "ipython",
    "version": 3
   },
   "file_extension": ".py",
   "mimetype": "text/x-python",
   "name": "python",
   "nbconvert_exporter": "python",
   "pygments_lexer": "ipython3",
   "version": "3.6.10"
  }
 },
 "nbformat": 4,
 "nbformat_minor": 4
}
